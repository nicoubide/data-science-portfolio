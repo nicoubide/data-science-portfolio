{
  "nbformat": 4,
  "nbformat_minor": 0,
  "metadata": {
    "colab": {
      "name": "Project 3: YouTube Viewership Predictions",
      "provenance": [],
      "collapsed_sections": []
    },
    "kernelspec": {
      "name": "python3",
      "display_name": "Python 3"
    }
  },
  "cells": [
    {
      "cell_type": "markdown",
      "metadata": {
        "id": "9AO-LpHQVuhm"
      },
      "source": [
        "# **Project 3: YouTube Viewership Predictions**\n",
        "a homework assignment for CIS 545: Big Data Analytics"
      ]
    },
    {
      "cell_type": "markdown",
      "metadata": {
        "id": "4t8r9nV6V5Dq"
      },
      "source": [
        "This homework will give you a hands on experience with machine learning with sklearn and scalable machine learning with Spark ML!\n",
        "\n",
        "Since most of us are isolated in the comfort and safety of our homes, our biggest source of entertainment is through online media platforms like Netflix, Prime Video, Hulu and YouTube. We will be exploring what makes videos successful on these platforms focusing on YouTube's data."
      ]
    },
    {
      "cell_type": "markdown",
      "metadata": {
        "id": "zsMMQ1RnqoYw"
      },
      "source": [
        "### Libraries and Setup Jargon!\n",
        "Run the following  cells to setup the notebook. When prompted for a selection, select the number that is associated with java 8"
      ]
    },
    {
      "cell_type": "code",
      "metadata": {
        "id": "V5Ea650lhvf2",
        "colab": {
          "base_uri": "https://localhost:8080/"
        },
        "outputId": "703d01fd-1ccc-48fd-a83a-ecb3948cb766"
      },
      "source": [
        "! sudo apt install openjdk-8-jdk\n",
        "! sudo update-alternatives --config java"
      ],
      "execution_count": null,
      "outputs": [
        {
          "output_type": "stream",
          "text": [
            "Reading package lists... Done\n",
            "Building dependency tree       \n",
            "Reading state information... Done\n",
            "openjdk-8-jdk is already the newest version (8u275-b01-0ubuntu1~18.04).\n",
            "0 upgraded, 0 newly installed, 0 to remove and 42 not upgraded.\n",
            "There are 2 choices for the alternative java (providing /usr/bin/java).\n",
            "\n",
            "  Selection    Path                                            Priority   Status\n",
            "------------------------------------------------------------\n",
            "* 0            /usr/lib/jvm/java-11-openjdk-amd64/bin/java      1111      auto mode\n",
            "  1            /usr/lib/jvm/java-11-openjdk-amd64/bin/java      1111      manual mode\n",
            "  2            /usr/lib/jvm/java-8-openjdk-amd64/jre/bin/java   1081      manual mode\n",
            "\n",
            "Press <enter> to keep the current choice[*], or type selection number: \n"
          ],
          "name": "stdout"
        }
      ]
    },
    {
      "cell_type": "code",
      "metadata": {
        "id": "WgAjz2AyqvmA"
      },
      "source": [
        "%%capture\n",
        "!pip3 install penngrader\n",
        "\n",
        "from penngrader.grader import *"
      ],
      "execution_count": null,
      "outputs": []
    },
    {
      "cell_type": "markdown",
      "metadata": {
        "id": "YLVCSFBErk_A"
      },
      "source": [
        "VERY IMPORTANT : Enter your **8 digit Penn ID** in the student id field below\n",
        "\n",
        "PLEASE NOTE: There are some questions, for example making plots, that do not have test cases. All questions without an autograder attached will be manually graded. "
      ]
    },
    {
      "cell_type": "code",
      "metadata": {
        "id": "678WFOguE-CF",
        "colab": {
          "base_uri": "https://localhost:8080/"
        },
        "outputId": "7c3295b1-4718-4c70-c6de-ebc9ab61d5c2"
      },
      "source": [
        "!pip3 install pandas==1.0.5"
      ],
      "execution_count": null,
      "outputs": [
        {
          "output_type": "stream",
          "text": [
            "Requirement already satisfied: pandas==1.0.5 in /usr/local/lib/python3.6/dist-packages (1.0.5)\n",
            "Requirement already satisfied: python-dateutil>=2.6.1 in /usr/local/lib/python3.6/dist-packages (from pandas==1.0.5) (2.8.1)\n",
            "Requirement already satisfied: numpy>=1.13.3 in /usr/local/lib/python3.6/dist-packages (from pandas==1.0.5) (1.18.5)\n",
            "Requirement already satisfied: pytz>=2017.2 in /usr/local/lib/python3.6/dist-packages (from pandas==1.0.5) (2018.9)\n",
            "Requirement already satisfied: six>=1.5 in /usr/local/lib/python3.6/dist-packages (from python-dateutil>=2.6.1->pandas==1.0.5) (1.15.0)\n"
          ],
          "name": "stdout"
        }
      ]
    },
    {
      "cell_type": "code",
      "metadata": {
        "id": "eAqMbSa7FA6b",
        "colab": {
          "base_uri": "https://localhost:8080/"
        },
        "outputId": "beecd769-a723-40a5-ff6b-ed65b8f5b432"
      },
      "source": [
        "# make sure that this cell prints True! Otherwise you may have forgotten to\n",
        "# restart your runtime after running the cell above\n",
        "import pandas as pd\n",
        "print(pd.__version__ == '1.0.5')"
      ],
      "execution_count": null,
      "outputs": [
        {
          "output_type": "stream",
          "text": [
            "True\n"
          ],
          "name": "stdout"
        }
      ]
    },
    {
      "cell_type": "code",
      "metadata": {
        "id": "9ucPnPp25tgM"
      },
      "source": [
        "#PLEASE ENSURE YOUR PENN-ID IS ENTERED CORRECTLY. IF NOT, THE AUTOGRADER WON'T KNOW WHO \n",
        "#TO ASSIGN POINTS TO YOU IN OUR BACKEND\n",
        "STUDENT_ID = 65606672"
      ],
      "execution_count": null,
      "outputs": []
    },
    {
      "cell_type": "code",
      "metadata": {
        "id": "A8YZ-1NV6Du4",
        "colab": {
          "base_uri": "https://localhost:8080/"
        },
        "outputId": "74aef98c-7709-41da-cdfd-465733090e4e"
      },
      "source": [
        "grader = PennGrader(homework_id = 'CIS545_Fall_2020_HW4', student_id = STUDENT_ID)"
      ],
      "execution_count": null,
      "outputs": [
        {
          "output_type": "stream",
          "text": [
            "PennGrader initialized with Student ID: 65606672\n",
            "\n",
            "Make sure this correct or we will not be able to store your grade\n"
          ],
          "name": "stdout"
        }
      ]
    },
    {
      "cell_type": "code",
      "metadata": {
        "id": "NodzYeBAGpnr"
      },
      "source": [
        "import numpy as np \n",
        "import json\n",
        "import matplotlib\n",
        "import matplotlib.pyplot as plt\n",
        "from matplotlib import cm\n",
        "from datetime import datetime\n",
        "import glob\n",
        "import seaborn as sns\n",
        "import re\n",
        "import os\n",
        "import statistics\n",
        "import random\n",
        "from sklearn.preprocessing import StandardScaler\n",
        "from sklearn.model_selection import train_test_split\n",
        "from pyspark.ml.feature import PCA"
      ],
      "execution_count": null,
      "outputs": []
    },
    {
      "cell_type": "code",
      "metadata": {
        "id": "4dInsl3tEYpy",
        "colab": {
          "base_uri": "https://localhost:8080/"
        },
        "outputId": "03460ae7-001a-42a7-f3c9-4a34ec52924a"
      },
      "source": [
        "## If boto3 not already installed uncomment the following:\n",
        "!pip3 install boto3"
      ],
      "execution_count": null,
      "outputs": [
        {
          "output_type": "stream",
          "text": [
            "Requirement already satisfied: boto3 in /usr/local/lib/python3.6/dist-packages (1.16.18)\n",
            "Requirement already satisfied: s3transfer<0.4.0,>=0.3.0 in /usr/local/lib/python3.6/dist-packages (from boto3) (0.3.3)\n",
            "Requirement already satisfied: botocore<1.20.0,>=1.19.18 in /usr/local/lib/python3.6/dist-packages (from boto3) (1.19.18)\n",
            "Requirement already satisfied: jmespath<1.0.0,>=0.7.1 in /usr/local/lib/python3.6/dist-packages (from boto3) (0.10.0)\n",
            "Requirement already satisfied: urllib3<1.27,>=1.25.4; python_version != \"3.4\" in /usr/local/lib/python3.6/dist-packages (from botocore<1.20.0,>=1.19.18->boto3) (1.25.11)\n",
            "Requirement already satisfied: python-dateutil<3.0.0,>=2.1 in /usr/local/lib/python3.6/dist-packages (from botocore<1.20.0,>=1.19.18->boto3) (2.8.1)\n",
            "Requirement already satisfied: six>=1.5 in /usr/local/lib/python3.6/dist-packages (from python-dateutil<3.0.0,>=2.1->botocore<1.20.0,>=1.19.18->boto3) (1.15.0)\n"
          ],
          "name": "stdout"
        }
      ]
    },
    {
      "cell_type": "code",
      "metadata": {
        "id": "bUWkvS3kHHve",
        "colab": {
          "base_uri": "https://localhost:8080/"
        },
        "outputId": "db6038b9-6e57-4c84-98fe-e988a9d3115a"
      },
      "source": [
        "import boto3\n",
        "from botocore import UNSIGNED\n",
        "\n",
        "from botocore.config import Config\n",
        "\n",
        "s3 = boto3.resource('s3', config=Config(signature_version=UNSIGNED))\n",
        "s3.Bucket('penn-cis545-files').download_file('youtube_data.zip', 'youtube_data.zip')\n",
        "\n",
        "!unzip /content/youtube_data.zip"
      ],
      "execution_count": null,
      "outputs": [
        {
          "output_type": "stream",
          "text": [
            "Archive:  /content/youtube_data.zip\n",
            "replace youtube_data/IN_category_id.json? [y]es, [n]o, [A]ll, [N]one, [r]ename: A\n",
            "  inflating: youtube_data/IN_category_id.json  \n",
            "  inflating: __MACOSX/youtube_data/._IN_category_id.json  \n",
            "  inflating: youtube_data/.DS_Store  \n",
            "  inflating: __MACOSX/youtube_data/._.DS_Store  \n",
            "  inflating: youtube_data/FR_category_id.json  \n",
            "  inflating: __MACOSX/youtube_data/._FR_category_id.json  \n",
            "  inflating: youtube_data/INvideos.csv  \n",
            "  inflating: __MACOSX/youtube_data/._INvideos.csv  \n",
            "  inflating: youtube_data/CAvideos.csv  \n",
            "  inflating: __MACOSX/youtube_data/._CAvideos.csv  \n",
            "  inflating: youtube_data/FRvideos.csv  \n",
            "  inflating: __MACOSX/youtube_data/._FRvideos.csv  \n",
            "  inflating: youtube_data/CA_category_id.json  \n",
            "  inflating: __MACOSX/youtube_data/._CA_category_id.json  \n",
            "  inflating: youtube_data/US_category_id.json  \n",
            "  inflating: __MACOSX/youtube_data/._US_category_id.json  \n",
            "  inflating: youtube_data/USvideos.csv  \n",
            "  inflating: __MACOSX/youtube_data/._USvideos.csv  \n",
            "  inflating: __MACOSX/._youtube_data  \n"
          ],
          "name": "stdout"
        }
      ]
    },
    {
      "cell_type": "markdown",
      "metadata": {
        "id": "lzax5Hp70oGW"
      },
      "source": [
        "# Section 1 : Machine Learning with Sklearn (45 points)"
      ]
    },
    {
      "cell_type": "markdown",
      "metadata": {
        "id": "Ecg1d6dwais8"
      },
      "source": [
        "## 1.1 Data loading and Preprocessing (5 pts)\n",
        "\n",
        "The dataset we will be using is a daily record of the top trending YouTube videos.\n",
        "\n",
        "To determine the year’s top-trending videos, YouTube uses a combination of factors including measuring users interactions (number of views, shares, comments and likes). \"Note that they’re not the most-viewed videos overall for the calendar year”. Top performers on the YouTube trending list are music videos (such as the famously viral “[Gangnam Style](https://www.youtube.com/watch?v=9bZkp7q19f0)”), celebrity and/or reality TV performances, and the random dude-with-a-camera viral videos that YouTube is well-known for.\n",
        "\n",
        "This dataset includes several months (and counting) of data on daily trending YouTube videos. Data is included for numerous countries, with up to 200 listed trending videos per day.\n",
        "\n",
        "Each region’s data is in a separate file. Data includes:\n",
        "\n",
        "*   Video Title\n",
        "*   Channel title\n",
        "*   Publish time\n",
        "*   Tags\n",
        "*   Views\n",
        "*   Likes\n",
        "*   Dislikes\n",
        "*   Description\n",
        "*   Comment count\n",
        "\n",
        "The data also includes a category\\_id field, which varies between regions. To retrieve the categories for a specific video, find it in the associated JSON. One such file is included for each of the five regions in the dataset.\n",
        "\n",
        "For more information on specific columns in the dataset refer to the column metadata.\n",
        "\n"
      ]
    },
    {
      "cell_type": "markdown",
      "metadata": {
        "id": "XCNsu176IR5x"
      },
      "source": [
        "#### 1.1.1: Combining Multiple CSV's. (2 pts.)\n",
        "\n",
        "There are multiple csv files in the dataset, each corresponding to a specific country. As a first step you need to read them and combine these csv files into a single dataframe. Use 'video_id' as your index.\n",
        "\n",
        "While combining them, you also need to create a column for \"country\" and fill it in the final dataframe. The country name can be extracted using the filename itself.\n",
        "\n",
        "Name your dataframe \"combined_data\"."
      ]
    },
    {
      "cell_type": "code",
      "metadata": {
        "id": "V_tuqP5Wahf_",
        "colab": {
          "base_uri": "https://localhost:8080/"
        },
        "outputId": "3cddd4db-b01e-41e6-a248-7a65c8612421"
      },
      "source": [
        "# Import all the csv files\n",
        "files = [i for i in glob.glob('/content/youtube_data/*.csv'.format('csv'))]\n",
        "sorted(files)"
      ],
      "execution_count": null,
      "outputs": [
        {
          "output_type": "execute_result",
          "data": {
            "text/plain": [
              "['/content/youtube_data/CAvideos.csv',\n",
              " '/content/youtube_data/FRvideos.csv',\n",
              " '/content/youtube_data/INvideos.csv',\n",
              " '/content/youtube_data/USvideos.csv']"
            ]
          },
          "metadata": {
            "tags": []
          },
          "execution_count": 10
        }
      ]
    },
    {
      "cell_type": "code",
      "metadata": {
        "id": "W-hNJZWS4bve"
      },
      "source": [
        "# TODO Combine all into a single dataframe \"combined_data\" and add a 'country' column. \n",
        "all_dataframes = list()\n",
        "for csv in files:\n",
        "  current_df = pd.read_csv(csv)\n",
        "  current_df[\"country\"] = csv.split(\"/\")[-1][:2]\n",
        "  all_dataframes.append(current_df)\n",
        "\n",
        "combined_data = pd.concat(all_dataframes)"
      ],
      "execution_count": null,
      "outputs": []
    },
    {
      "cell_type": "code",
      "metadata": {
        "id": "evnVRnTO666e"
      },
      "source": [
        "#Setting the index to video_id\n",
        "combined_data.set_index(\"video_id\", inplace=True)"
      ],
      "execution_count": null,
      "outputs": []
    },
    {
      "cell_type": "code",
      "metadata": {
        "id": "oCXrwC0G6Qi4",
        "colab": {
          "base_uri": "https://localhost:8080/"
        },
        "outputId": "59bf066e-7fea-4c35-922a-2b2ea6f89f7f"
      },
      "source": [
        "# Grader cell \n",
        "grader.grade('check_combined_dataframe', (combined_data.shape))"
      ],
      "execution_count": null,
      "outputs": [
        {
          "output_type": "stream",
          "text": [
            "Correct! You earned 1/1 points. You are a star!\n",
            "\n",
            "Your submission has been successfully recorded in the gradebook.\n"
          ],
          "name": "stdout"
        }
      ]
    },
    {
      "cell_type": "code",
      "metadata": {
        "id": "Jj0v-XEfSiqG",
        "colab": {
          "base_uri": "https://localhost:8080/"
        },
        "outputId": "1e5bab43-278c-4a29-a458-c2c0e7e7e4ea"
      },
      "source": [
        "# Grader cell \n",
        "grader.grade('check_country',(combined_data.country))"
      ],
      "execution_count": null,
      "outputs": [
        {
          "output_type": "stream",
          "text": [
            "Correct! You earned 1/1 points. You are a star!\n",
            "\n",
            "Your submission has been successfully recorded in the gradebook.\n"
          ],
          "name": "stdout"
        }
      ]
    },
    {
      "cell_type": "markdown",
      "metadata": {
        "id": "PdfKNvDqILsh"
      },
      "source": [
        "#### 1.1.2: Map category Id's to categories (2 pts)\n",
        "\n",
        "Read the category_id.json file and map the category_id's in the dataframe to the category name.\n",
        "\n",
        "Use json.load to read in the data in the json file as a python dictionary and then map the category id given in the dataframe to category name from the json file. (Hint: the US json is likely the most comprehensive reference)\n",
        "\n",
        "\n"
      ]
    },
    {
      "cell_type": "code",
      "metadata": {
        "id": "ufuwQfi67sTj"
      },
      "source": [
        "#Converting category_id to str\n",
        "combined_data['category_id'] = combined_data['category_id'].astype(str)"
      ],
      "execution_count": null,
      "outputs": []
    },
    {
      "cell_type": "code",
      "metadata": {
        "id": "HtZiVXFY7_39"
      },
      "source": [
        "#Return dict\n",
        "US_category_id = json.load(open('/content/youtube_data/US_category_id.json'))"
      ],
      "execution_count": null,
      "outputs": []
    },
    {
      "cell_type": "code",
      "metadata": {
        "id": "1GFsvqbh_rWH"
      },
      "source": [
        "#Creating our mapping dictionary\n",
        "mapper = dict()\n",
        "\n",
        "for i in np.arange(len(US_category_id[\"items\"])):\n",
        "\n",
        "  #Get ID\n",
        "  id = US_category_id[\"items\"][i][\"id\"]\n",
        "\n",
        "  #Get Genre\n",
        "  genre = US_category_id[\"items\"][i][\"snippet\"][\"title\"]\n",
        "\n",
        "  mapper[id] = genre"
      ],
      "execution_count": null,
      "outputs": []
    },
    {
      "cell_type": "code",
      "metadata": {
        "id": "oftEcWgJ_Ktx"
      },
      "source": [
        "#Creating the \"category\" column\n",
        "combined_data[\"category\"] = combined_data[\"category_id\"].apply(lambda x: mapper[x])"
      ],
      "execution_count": null,
      "outputs": []
    },
    {
      "cell_type": "code",
      "metadata": {
        "id": "2xU7TrSASoIG",
        "colab": {
          "base_uri": "https://localhost:8080/"
        },
        "outputId": "9aa509b6-3998-4c1a-d863-8539f3f3c094"
      },
      "source": [
        "# Grader Cell 2 pts\n",
        "grader.grade('check_category_mapping',(combined_data.category))"
      ],
      "execution_count": null,
      "outputs": [
        {
          "output_type": "stream",
          "text": [
            "Correct! You earned 2/2 points. You are a star!\n",
            "\n",
            "Your submission has been successfully recorded in the gradebook.\n"
          ],
          "name": "stdout"
        }
      ]
    },
    {
      "cell_type": "markdown",
      "metadata": {
        "id": "LEfiMpUULmT4"
      },
      "source": [
        "#### 1.1.3: Fix datetime format and remove rows with NA's (1 pt)\n",
        "\n",
        "The 'publish_time' and 'trending_date' features are not in a unix datetime format, so use pandas to_datetime() to convert it into the right format.\n",
        "\n",
        "After that is done remove all the rows which have NA's in them."
      ]
    },
    {
      "cell_type": "code",
      "metadata": {
        "id": "EMqgqJv5MYWG"
      },
      "source": [
        "# Your code goes here\n",
        "combined_data['trending_date'] = pd.to_datetime(combined_data[\"trending_date\"], format='%y.%d.%m')\n",
        "combined_data['publish_time'] = pd.to_datetime(combined_data[\"publish_time\"])\n",
        "\n",
        "# Code to remove NA's\n",
        "combined_data.dropna(inplace=True)"
      ],
      "execution_count": null,
      "outputs": []
    },
    {
      "cell_type": "code",
      "metadata": {
        "id": "P7B9nlL1SwgT",
        "colab": {
          "base_uri": "https://localhost:8080/"
        },
        "outputId": "7e35a14a-8819-4719-9059-bcd2032b667e"
      },
      "source": [
        "# Grader cell 1 pt\n",
        "grader.grade('validate_na',(combined_data.shape))"
      ],
      "execution_count": null,
      "outputs": [
        {
          "output_type": "stream",
          "text": [
            "Correct! You earned 1/1 points. You are a star!\n",
            "\n",
            "Your submission has been successfully recorded in the gradebook.\n"
          ],
          "name": "stdout"
        }
      ]
    },
    {
      "cell_type": "markdown",
      "metadata": {
        "id": "gT2l5ttZan_J"
      },
      "source": [
        "## 1.2 EDA and Feature Engineering (20 pts)\n",
        "\n",
        "\n",
        "**EDA:** Exploratory data analysis is an approach to analyzing data sets to summarize their main characteristics, often with visual methods. A statistical model can be used or not, but primarily EDA is for seeing what the data can tell us beyond the formal modeling or hypothesis testing task.\n",
        "\n",
        "**Feature Engineering:** Feature engineering is the process of using domain knowledge to extract features from raw data via data mining techniques. These new features can be used to improve the performance of machine learning algorithms. Features are also commonly referred to as covariates, predictors, or put more simply, new columns in our df."
      ]
    },
    {
      "cell_type": "markdown",
      "metadata": {
        "id": "bL0aSQcFAxxz"
      },
      "source": [
        "#### 1.2.1: Mean, standard deviation, min and max. (1 pt)\n",
        "\n",
        "Compute some simple statistics like mean, standard deviation, min and max for each of the numerical features in the dataset and store them into lists in order [views, likes, dislikes, comment_count]\n",
        "\n",
        "means = [views_mean, likes_mean, dislikes_mean, comment_count_mean] and similarly for mins, maxs and stds"
      ]
    },
    {
      "cell_type": "code",
      "metadata": {
        "id": "sUvoJyv4OwK6"
      },
      "source": [
        "# Your code goes here\n",
        "maxs = [max(combined_data[\"views\"]), max(combined_data[\"likes\"]), max(combined_data[\"dislikes\"]), max(combined_data[\"comment_count\"])]\n",
        "mins = [min(combined_data[\"views\"]), min(combined_data[\"likes\"]), min(combined_data[\"dislikes\"]), min(combined_data[\"comment_count\"])]\n",
        "stds = [statistics.stdev(combined_data[\"views\"]), statistics.stdev(combined_data[\"likes\"]), statistics.stdev(combined_data[\"dislikes\"]), statistics.stdev(combined_data[\"comment_count\"])]\n",
        "means = [np.mean(combined_data[\"views\"]), np.mean(combined_data[\"likes\"]), np.mean(combined_data[\"dislikes\"]), np.mean(combined_data[\"comment_count\"])]"
      ],
      "execution_count": null,
      "outputs": []
    },
    {
      "cell_type": "code",
      "metadata": {
        "id": "G0186aPaSzA_",
        "colab": {
          "base_uri": "https://localhost:8080/"
        },
        "outputId": "0e670f32-a7bb-4b72-fc4e-8d86aafad4e6"
      },
      "source": [
        "# Grader cell 1 pt\n",
        "grader.grade('check_min_max_mean_std',([maxs, mins, stds, means]))\n"
      ],
      "execution_count": null,
      "outputs": [
        {
          "output_type": "stream",
          "text": [
            "Correct! You earned 1/1 points. You are a star!\n",
            "\n",
            "Your submission has been successfully recorded in the gradebook.\n"
          ],
          "name": "stdout"
        }
      ]
    },
    {
      "cell_type": "markdown",
      "metadata": {
        "id": "jwMkARfAFE-U"
      },
      "source": [
        "#### 1.2.2: Rescale features (1 pt)\n",
        "\n",
        "As you can observe from the above computation, the range of data is really high, to avoid numerical instability issues, rescale the likes, views, dislkes and comment_count to log scale (base e) and store them in the dataframe as likes_log, views_log, dislikes_log and comment_log. Note that log 0 is not defined, hence you can add 1 to each value prior to taking the log."
      ]
    },
    {
      "cell_type": "code",
      "metadata": {
        "id": "-0wGMFGdFUBK"
      },
      "source": [
        "# Your code goes here\n",
        "combined_data['likes_log'] = np.log(combined_data['likes'] + 1)\n",
        "combined_data['views_log'] = np.log(combined_data['views'] + 1)\n",
        "combined_data['dislikes_log'] = np.log(combined_data['dislikes'] + 1)\n",
        "combined_data['comment_log'] = np.log(combined_data['comment_count'] + 1)"
      ],
      "execution_count": null,
      "outputs": []
    },
    {
      "cell_type": "code",
      "metadata": {
        "id": "ZrJSqeZaS1_0",
        "colab": {
          "base_uri": "https://localhost:8080/"
        },
        "outputId": "743efa51-bab5-4827-ca67-c9adee5d4d0d"
      },
      "source": [
        "# Grader cell 1 pt\n",
        "grader.grade('check_feature_rescaling',([np.mean(combined_data['likes_log']),np.mean(combined_data['views_log']),np.mean(combined_data['dislikes_log']),\n",
        "                                         np.mean(combined_data['comment_log'])]))"
      ],
      "execution_count": null,
      "outputs": [
        {
          "output_type": "stream",
          "text": [
            "Correct! You earned 1/1 points. You are a star!\n",
            "\n",
            "Your submission has been successfully recorded in the gradebook.\n"
          ],
          "name": "stdout"
        }
      ]
    },
    {
      "cell_type": "markdown",
      "metadata": {
        "id": "Kqt6-d6NGA9F"
      },
      "source": [
        "#### 1.2.3: Plot the distribution (2 pt)\n",
        "\n",
        "Plot the distribution for the newly created log features. They should look like normal distribution curves."
      ]
    },
    {
      "cell_type": "code",
      "metadata": {
        "id": "gM-HSdnGE5Cf",
        "colab": {
          "base_uri": "https://localhost:8080/",
          "height": 585
        },
        "outputId": "5e61ab57-49f0-4874-c099-dff2ae0b2f42"
      },
      "source": [
        "# Plotting\n",
        "bins = 10\n",
        "\n",
        "fig, axes = plt.subplots(nrows=2, ncols=2, figsize=(10, 8))\n",
        "ax0, ax1, ax2, ax3 = axes.flatten()\n",
        "\n",
        "ax0.hist(combined_data[\"likes_log\"], bins, color=\"red\")\n",
        "ax0.set_title('Likes')\n",
        "ax0.set_xlabel('Likes (log scale)')\n",
        "\n",
        "ax1.hist(combined_data[\"dislikes_log\"], bins, color=\"blue\")\n",
        "ax1.set_title('Dislikes')\n",
        "ax1.set_xlabel('Dislikes (log scale)')\n",
        "\n",
        "ax2.hist(combined_data[\"comment_log\"], bins, color=\"green\")\n",
        "ax2.set_title('Comments')\n",
        "ax2.set_xlabel('Comments (log scale)')\n",
        "\n",
        "ax3.hist(combined_data[\"views_log\"], bins, color=\"yellow\")\n",
        "ax3.set_title('Views')\n",
        "ax3.set_xlabel('Views (log scale)')\n",
        "\n",
        "fig.tight_layout()\n",
        "plt.show()"
      ],
      "execution_count": null,
      "outputs": [
        {
          "output_type": "display_data",
          "data": {
            "image/png": "[encoded data removed]",
            "text/plain": [
              "<Figure size 720x576 with 4 Axes>"
            ]
          },
          "metadata": {
            "tags": [],
            "needs_background": "light"
          }
        }
      ]
    },
    {
      "cell_type": "markdown",
      "metadata": {
        "id": "AuCVICPLBV1l"
      },
      "source": [
        "#### 1.2.4: Comparing views, likes, dislikes against categories (3 pt)\n",
        "\n",
        "As a next step, try to gain insights into the data using categories, views, likes and dislikes.\n",
        "\n",
        "Draw three plots:\n",
        "\n",
        "1.) How many videos are there for each category?\n",
        "\n",
        "2.) What is the distribution of views against categories? (Use boxplot and views on log scale)\n",
        "\n",
        "3.) What is the distribution of dislikes against categories? (Use boxplot and dislikes on log scale)\n",
        "\n",
        "For extra credit:\n",
        "You can try to gain more insights into the dataset by drawing interesting plots. Some ideas include:\n",
        "\n",
        "* How long does a video trend in a country? \n",
        "* What are some videos which got popular because they were disliked? \n",
        "\n",
        "Think of such interesting things and add here. We will award points based on creativity of the insights that you get."
      ]
    },
    {
      "cell_type": "code",
      "metadata": {
        "id": "Vl_bgpXbB6kt",
        "colab": {
          "base_uri": "https://localhost:8080/",
          "height": 502
        },
        "outputId": "edf0a588-3426-43cf-cb70-ed5a77001af1"
      },
      "source": [
        "#PLOT 1: video by category\n",
        "videos_by_category = combined_data.groupby(by=[\"category\"]).count().reset_index().iloc[:,:2].rename(columns={'trending_date':'count'})\n",
        "\n",
        "#Plotting\n",
        "fig = plt.figure(figsize=(32, 8))\n",
        "ax = sns.barplot(x=\"category\", y=\"count\", data=videos_by_category)\n",
        "ax.set(xlabel='Category', ylabel='Count', title=\"Number of uploads per category\")"
      ],
      "execution_count": null,
      "outputs": [
        {
          "output_type": "execute_result",
          "data": {
            "text/plain": [
              "[Text(0, 0.5, 'Count'),\n",
              " Text(0.5, 0, 'Category'),\n",
              " Text(0.5, 1.0, 'Number of uploads per category')]"
            ]
          },
          "metadata": {
            "tags": []
          },
          "execution_count": 27
        },
        {
          "output_type": "display_data",
          "data": {
            "image/png": "[encoded data removed]",
            "text/plain": [
              "<Figure size 2304x576 with 1 Axes>"
            ]
          },
          "metadata": {
            "tags": [],
            "needs_background": "light"
          }
        }
      ]
    },
    {
      "cell_type": "code",
      "metadata": {
        "id": "0hFbsXGzOjQa",
        "colab": {
          "base_uri": "https://localhost:8080/",
          "height": 507
        },
        "outputId": "76a119d5-9b16-4b52-86c3-baf672942cb0"
      },
      "source": [
        "#PLOT 2: distribution of views against categories\n",
        "fig = plt.figure(figsize=(32, 8))\n",
        "ax = sns.boxplot(x=\"category\", y=\"views_log\", data=combined_data)\n",
        "ax.set(xlabel='Category', ylabel='Views (log scale)', title=\"Views (log scale) per category\")"
      ],
      "execution_count": null,
      "outputs": [
        {
          "output_type": "execute_result",
          "data": {
            "text/plain": [
              "[Text(0, 0.5, 'Views (log scale)'),\n",
              " Text(0.5, 0, 'Category'),\n",
              " Text(0.5, 1.0, 'Views (log scale) per category')]"
            ]
          },
          "metadata": {
            "tags": []
          },
          "execution_count": 28
        },
        {
          "output_type": "display_data",
          "data": {
            "image/png": "[encoded data removed]",
            "text/plain": [
              "<Figure size 2304x576 with 1 Axes>"
            ]
          },
          "metadata": {
            "tags": [],
            "needs_background": "light"
          }
        }
      ]
    },
    {
      "cell_type": "code",
      "metadata": {
        "id": "ogIclMJkP2yL",
        "colab": {
          "base_uri": "https://localhost:8080/",
          "height": 507
        },
        "outputId": "4c956e6c-e6cc-4ad6-bf48-de5de514fc8f"
      },
      "source": [
        "#PLOT 3: distribution of dislikes against categories\n",
        "fig = plt.figure(figsize=(32, 8))\n",
        "ax = sns.boxplot(x=\"category\", y=\"dislikes_log\", data=combined_data)\n",
        "ax.set(xlabel='Category', ylabel='Dislikes (log scale)', title=\"Dislikes (log scale) per category\")"
      ],
      "execution_count": null,
      "outputs": [
        {
          "output_type": "execute_result",
          "data": {
            "text/plain": [
              "[Text(0, 0.5, 'Dislikes (log scale)'),\n",
              " Text(0.5, 0, 'Category'),\n",
              " Text(0.5, 1.0, 'Dislikes (log scale) per category')]"
            ]
          },
          "metadata": {
            "tags": []
          },
          "execution_count": 29
        },
        {
          "output_type": "display_data",
          "data": {
            "image/png": "[encoded data removed]",
            "text/plain": [
              "<Figure size 2304x576 with 1 Axes>"
            ]
          },
          "metadata": {
            "tags": [],
            "needs_background": "light"
          }
        }
      ]
    },
    {
      "cell_type": "markdown",
      "metadata": {
        "id": "Lhkyw1WC4fdW"
      },
      "source": [
        "#### 1.2.4: Extra Credit"
      ]
    },
    {
      "cell_type": "code",
      "metadata": {
        "id": "7XTyiz1Z6L3Q",
        "colab": {
          "base_uri": "https://localhost:8080/",
          "height": 1000
        },
        "outputId": "39d89807-b6ff-4654-bfa0-55ef8d976ab1"
      },
      "source": [
        "#PLOT 4: Videos that got popular due to dislikes\n",
        "\n",
        "#Creating a dataframe of videos that are disliked and adding columns\n",
        "disliked_videos = combined_data.groupby(by=[\"title\"]).sum().sort_values(by=[\"dislikes\"], ascending=False).reset_index()\n",
        "disliked_videos[\"dislike_ratio\"] = disliked_videos[\"likes\"] / disliked_videos[\"dislikes\"]\n",
        "disliked_videos[\"hate_percentage\"] = disliked_videos[\"dislikes\"] / disliked_videos[\"views\"] * 100\n",
        "disliked_videos[\"like_percentage\"] = disliked_videos[\"likes\"] / disliked_videos[\"views\"] * 100\n",
        "disliked_data = disliked_videos[[\"title\",\"views\",\"dislikes\",\"likes\",\"dislike_ratio\",\"hate_percentage\",\"like_percentage\"]]\n",
        "\n",
        "#Creating sub DFs for plotting\n",
        "most_disliked = disliked_data.sort_values(by=[\"dislikes\"], ascending=False).head(10)\n",
        "most_percentage_of_haters = disliked_data.sort_values(by=[\"hate_percentage\"], ascending=False).head(10)\n",
        "most_dislike_ratio = disliked_data.sort_values(by=[\"dislike_ratio\"], ascending=False)\n",
        "most_dislike_ratio = most_dislike_ratio[most_dislike_ratio[\"dislikes\"] != 0]\n",
        "most_dislike_ratio = most_dislike_ratio.head(10)\n",
        "\n",
        "#Plotting\n",
        "fig, axes = plt.subplots(nrows=1, ncols=3, figsize=(20, 5))\n",
        "ax0, ax1, ax2 = axes.flatten()\n",
        "plt.gcf().autofmt_xdate()\n",
        "\n",
        "#Most dislikes\n",
        "ax0.bar(x=most_disliked[\"title\"], height=most_disliked[\"dislikes\"], color=\"yellow\")\n",
        "ax0.set_title('Videos with the highest number of dislikes')\n",
        "\n",
        "#Most percentage of haters\n",
        "ax1.bar(x=most_percentage_of_haters[\"title\"], height=most_percentage_of_haters[\"hate_percentage\"], color=\"red\")\n",
        "ax1.set_title('Videos with the highest ratio of views to dislikes')\n",
        "\n",
        "#Most dislikes\n",
        "ax2.bar(x=most_dislike_ratio[\"title\"], height=most_dislike_ratio[\"dislike_ratio\"], color=\"blue\")\n",
        "ax2.set_title('Videos with the highest ratio of dislikes to likes')\n"
      ],
      "execution_count": null,
      "outputs": [
        {
          "output_type": "execute_result",
          "data": {
            "text/plain": [
              "Text(0.5, 1.0, 'Videos with the highest ratio of dislikes to likes')"
            ]
          },
          "metadata": {
            "tags": []
          },
          "execution_count": 30
        },
        {
          "output_type": "stream",
          "text": [
            "/usr/local/lib/python3.6/dist-packages/matplotlib/backends/backend_agg.py:214: RuntimeWarning: Glyph 48169 missing from current font.\n",
            "  font.set_text(s, 0.0, flags=flags)\n",
            "/usr/local/lib/python3.6/dist-packages/matplotlib/backends/backend_agg.py:214: RuntimeWarning: Glyph 53444 missing from current font.\n",
            "  font.set_text(s, 0.0, flags=flags)\n",
            "/usr/local/lib/python3.6/dist-packages/matplotlib/backends/backend_agg.py:214: RuntimeWarning: Glyph 49548 missing from current font.\n",
            "  font.set_text(s, 0.0, flags=flags)\n",
            "/usr/local/lib/python3.6/dist-packages/matplotlib/backends/backend_agg.py:214: RuntimeWarning: Glyph 45380 missing from current font.\n",
            "  font.set_text(s, 0.0, flags=flags)\n",
            "/usr/local/lib/python3.6/dist-packages/matplotlib/backends/backend_agg.py:214: RuntimeWarning: Glyph 45800 missing from current font.\n",
            "  font.set_text(s, 0.0, flags=flags)\n",
            "/usr/local/lib/python3.6/dist-packages/matplotlib/backends/backend_agg.py:183: RuntimeWarning: Glyph 48169 missing from current font.\n",
            "  font.set_text(s, 0, flags=flags)\n",
            "/usr/local/lib/python3.6/dist-packages/matplotlib/backends/backend_agg.py:183: RuntimeWarning: Glyph 53444 missing from current font.\n",
            "  font.set_text(s, 0, flags=flags)\n",
            "/usr/local/lib/python3.6/dist-packages/matplotlib/backends/backend_agg.py:183: RuntimeWarning: Glyph 49548 missing from current font.\n",
            "  font.set_text(s, 0, flags=flags)\n",
            "/usr/local/lib/python3.6/dist-packages/matplotlib/backends/backend_agg.py:183: RuntimeWarning: Glyph 45380 missing from current font.\n",
            "  font.set_text(s, 0, flags=flags)\n",
            "/usr/local/lib/python3.6/dist-packages/matplotlib/backends/backend_agg.py:183: RuntimeWarning: Glyph 45800 missing from current font.\n",
            "  font.set_text(s, 0, flags=flags)\n",
            "/usr/local/lib/python3.6/dist-packages/matplotlib/backends/backend_agg.py:214: RuntimeWarning: Glyph 24962 missing from current font.\n",
            "  font.set_text(s, 0.0, flags=flags)\n",
            "/usr/local/lib/python3.6/dist-packages/matplotlib/backends/backend_agg.py:214: RuntimeWarning: Glyph 22269 missing from current font.\n",
            "  font.set_text(s, 0.0, flags=flags)\n",
            "/usr/local/lib/python3.6/dist-packages/matplotlib/backends/backend_agg.py:183: RuntimeWarning: Glyph 24962 missing from current font.\n",
            "  font.set_text(s, 0, flags=flags)\n",
            "/usr/local/lib/python3.6/dist-packages/matplotlib/backends/backend_agg.py:183: RuntimeWarning: Glyph 22269 missing from current font.\n",
            "  font.set_text(s, 0, flags=flags)\n",
            "/usr/local/lib/python3.6/dist-packages/matplotlib/backends/backend_agg.py:214: RuntimeWarning: Glyph 53468 missing from current font.\n",
            "  font.set_text(s, 0.0, flags=flags)\n",
            "/usr/local/lib/python3.6/dist-packages/matplotlib/backends/backend_agg.py:214: RuntimeWarning: Glyph 50672 missing from current font.\n",
            "  font.set_text(s, 0.0, flags=flags)\n",
            "/usr/local/lib/python3.6/dist-packages/matplotlib/backends/backend_agg.py:183: RuntimeWarning: Glyph 53468 missing from current font.\n",
            "  font.set_text(s, 0, flags=flags)\n",
            "/usr/local/lib/python3.6/dist-packages/matplotlib/backends/backend_agg.py:183: RuntimeWarning: Glyph 50672 missing from current font.\n",
            "  font.set_text(s, 0, flags=flags)\n"
          ],
          "name": "stderr"
        },
        {
          "output_type": "display_data",
          "data": {
            "image/png": "[encoded data removed]",
            "text/plain": [
              "<Figure size 1440x360 with 3 Axes>"
            ]
          },
          "metadata": {
            "tags": [],
            "needs_background": "light"
          }
        }
      ]
    },
    {
      "cell_type": "markdown",
      "metadata": {
        "id": "VgUR-PE2IuvI"
      },
      "source": [
        "It's interesting to see how the \"hate\" for each video on YouTube is relative. In the first plot, we see that the most disliked video in our dataset is the YouTube rewind of 2017. However, this vide ohad twice as many likes as dislikes. Therefore, just because it has the highest number of dislikes, doesn't exactly mean its the most hated video on youtube. In the second graph we see the precentage of people who clicked on the video and decided that they were going to dislike it. The highest video here had 25% of total viewers click the dislike button, so this could be an argument for most hated video on YouTube. Finally, we have a graph depicting the videos with the highest ratio of dislikes to likes. Here, we see that \"Swing - Rivage (prod Le Motel), had over 3000x the number of dislikes as likes. That's a pretty disliked video!"
      ]
    },
    {
      "cell_type": "code",
      "metadata": {
        "id": "PqUOBtpQhl0F",
        "colab": {
          "base_uri": "https://localhost:8080/",
          "height": 610
        },
        "outputId": "d7a968bc-a474-4492-e54c-aa8f8ed67015"
      },
      "source": [
        "#PLOT 5: Plotting  the frequency of uploads that contain words relating to Trump's trade war with China over time\n",
        "\n",
        "import re\n",
        "#Creating the key_words_video df which contains all the video that hav the following key words in either the title or the tags\n",
        "key_words = [\"Trade\", \"trade war\", \"china trade\", \"trade deal\", \"tariff\"]\n",
        "\n",
        "#Creating the dataframe\n",
        "key_word_videos = combined_data[np.logical_or(combined_data[\"title\"].str.contains('|'.join(key_words), case=False), combined_data[\"description\"].str.contains('|'.join(key_words), case=False))]\n",
        "key_word_videos[\"publish_date\"] = key_word_videos[\"publish_time\"].apply(lambda x: x.date())\n",
        "\n",
        "#Creating a pivot table to graph uploads by date\n",
        "key_words_pivoted = key_word_videos.groupby(by=[\"publish_date\"]).count().reset_index().iloc[:,:2].rename(columns={\"trending_date\":\"count\"})\n",
        "\n",
        "#Plotting the data\n",
        "plt.style.use('ggplot')\n",
        "fig = plt.figure(figsize=(28, 8))\n",
        "plt.plot(key_words_pivoted[\"publish_date\"][1:], key_words_pivoted[\"count\"][1:])\n",
        "plt.gcf().autofmt_xdate()\n",
        "plt.xlabel('Date')\n",
        "plt.ylabel('Number of videos uploaded')\n",
        "plt.title('Plotting the number of uploads relating to Trump\\'s trade war with China over time')\n",
        "\n",
        "#Trump's state of the union address\n",
        "plt.vlines(x=datetime(2018, 1, 27), ymin=0, ymax=30)\n",
        "plt.text(x=datetime(2018, 1, 8), y=-1, s=\"Trump SOTU - first mention of China trade war\")\n",
        "\n",
        "#Trump's announces tariffs\n",
        "plt.vlines(x=datetime(2018, 3, 6), ymin=0, ymax=30)\n",
        "plt.text(x=datetime(2018, 2, 18), y=-1, s=\"Trump announces 25% tariffs certain Chinese goods\")"
      ],
      "execution_count": null,
      "outputs": [
        {
          "output_type": "stream",
          "text": [
            "/usr/local/lib/python3.6/dist-packages/ipykernel_launcher.py:9: SettingWithCopyWarning: \n",
            "A value is trying to be set on a copy of a slice from a DataFrame.\n",
            "Try using .loc[row_indexer,col_indexer] = value instead\n",
            "\n",
            "See the caveats in the documentation: https://pandas.pydata.org/pandas-docs/stable/user_guide/indexing.html#returning-a-view-versus-a-copy\n",
            "  if __name__ == '__main__':\n"
          ],
          "name": "stderr"
        },
        {
          "output_type": "execute_result",
          "data": {
            "text/plain": [
              "Text(2018-02-18 00:00:00, -1, 'Trump announces 25% tariffs certain Chinese goods')"
            ]
          },
          "metadata": {
            "tags": []
          },
          "execution_count": 31
        },
        {
          "output_type": "display_data",
          "data": {
            "image/png": "[encoded data removed]",
            "text/plain": [
              "<Figure size 2016x576 with 1 Axes>"
            ]
          },
          "metadata": {
            "tags": []
          }
        }
      ]
    },
    {
      "cell_type": "markdown",
      "metadata": {
        "id": "B8tlTZaZJqBj"
      },
      "source": [
        "Here we see some pretty obvious spikes in the YouTube uploads that had any semantic conection to Trump's trade war with China just after he first mentions in on a major platform (his State of the Union) and just after he officially signs tariffs into law"
      ]
    },
    {
      "cell_type": "markdown",
      "metadata": {
        "id": "a9l7UZPoGBcB"
      },
      "source": [
        "#### 1.2.5: Feature Engineering (8 pts)\n"
      ]
    },
    {
      "cell_type": "markdown",
      "metadata": {
        "id": "bUSsAlnaI4Ep"
      },
      "source": [
        "\n",
        "##### a. Processing tags (1 pt)\n",
        "\n",
        "The feature tags in the dataset has a delimiter, use that delimiter to count the number of tags, create a feature called num_tags and add that to the dataset."
      ]
    },
    {
      "cell_type": "code",
      "metadata": {
        "id": "4L_6WcapHPDl"
      },
      "source": [
        "#Creating the \"num_tags\" column\n",
        "combined_data[\"num_tags\"] = combined_data[\"tags\"].apply(lambda x: len(x.split(\"|\")))"
      ],
      "execution_count": null,
      "outputs": []
    },
    {
      "cell_type": "markdown",
      "metadata": {
        "id": "8bnJqokpI1Mj"
      },
      "source": [
        "##### b. Processing description and title (2 pts.)\n",
        "\n",
        "Compute the length of description and title and add them as features to the dataset"
      ]
    },
    {
      "cell_type": "code",
      "metadata": {
        "id": "NJyWb54zHes2"
      },
      "source": [
        "# Your code goes here\n",
        "combined_data[\"desc_len\"] = combined_data[\"description\"].apply(lambda x: len(x))"
      ],
      "execution_count": null,
      "outputs": []
    },
    {
      "cell_type": "code",
      "metadata": {
        "id": "ZPMnQhbJHgx0"
      },
      "source": [
        "# Your code goes here\n",
        "combined_data[\"len_title\"] = combined_data[\"title\"].apply(lambda x: len(x))"
      ],
      "execution_count": null,
      "outputs": []
    },
    {
      "cell_type": "code",
      "metadata": {
        "id": "ksE7fNPQS_qr",
        "colab": {
          "base_uri": "https://localhost:8080/"
        },
        "outputId": "fabb107b-c8af-47ee-8649-8f528afb5bcb"
      },
      "source": [
        "# Grader cell 3 pts.\n",
        "grader.grade('check_tags_title_description',([combined_data['num_tags'].describe(),combined_data['desc_len'].describe(),combined_data['len_title'].describe()]))"
      ],
      "execution_count": null,
      "outputs": [
        {
          "output_type": "stream",
          "text": [
            "Correct! You earned 3/3 points. You are a star!\n",
            "\n",
            "Your submission has been successfully recorded in the gradebook.\n"
          ],
          "name": "stdout"
        }
      ]
    },
    {
      "cell_type": "markdown",
      "metadata": {
        "id": "aOaB6ZbCJTBv"
      },
      "source": [
        "##### c. Processing publish_time. (4 pts.)\n",
        "\n",
        "\n",
        "Split 'publish_time' feature into three parts time, date, and weekday, where time will contain the time component of the original feature and date and weekday will store the corresponding date and weekday number respectively. Start with 1 for Monday and end with 7 for Sunday."
      ]
    },
    {
      "cell_type": "code",
      "metadata": {
        "id": "ZVJTEJRFHrI5"
      },
      "source": [
        "#Separating out time, date, and weekday\n",
        "combined_data['publish_date'] = combined_data[\"publish_time\"].apply(lambda x: x.date())\n",
        "combined_data['publish_weekday'] = combined_data[\"publish_time\"].apply(lambda x : x.timetuple()[6] + 1)\n",
        "combined_data['publish_time'] = combined_data[\"publish_time\"].apply(lambda x: x.time())"
      ],
      "execution_count": null,
      "outputs": []
    },
    {
      "cell_type": "code",
      "metadata": {
        "id": "JCd_2JezVXqk"
      },
      "source": [
        "#Creating the random_index variable\n",
        "random_index = random.randint(0,combined_data.shape[0]-1)"
      ],
      "execution_count": null,
      "outputs": []
    },
    {
      "cell_type": "code",
      "metadata": {
        "id": "Ud5dPVljTDoQ",
        "colab": {
          "base_uri": "https://localhost:8080/"
        },
        "outputId": "6ce20301-780c-4540-badf-af88d2dbd140"
      },
      "source": [
        "# Grader cell 4 pts\n",
        "grader.grade('check_date_time_processing',([combined_data['publish_time'].iloc[random_index],combined_data['publish_date'].iloc[random_index],sorted(list(combined_data[\"publish_weekday\"].value_counts()))]))"
      ],
      "execution_count": null,
      "outputs": [
        {
          "output_type": "stream",
          "text": [
            "Correct! You earned 4/4 points. You are a star!\n",
            "\n",
            "Your submission has been successfully recorded in the gradebook.\n"
          ],
          "name": "stdout"
        }
      ]
    },
    {
      "cell_type": "markdown",
      "metadata": {
        "id": "mx1JPowWKKE7"
      },
      "source": [
        "##### d. Number of videos per weekday (1 pt)\n",
        "\n",
        "Compute the number of videos published per day of the week. Which day of the week do people publish most videos? Make a visualization demonstrating the result."
      ]
    },
    {
      "cell_type": "code",
      "metadata": {
        "id": "R2Q0wZZ4V65X",
        "colab": {
          "base_uri": "https://localhost:8080/",
          "height": 567
        },
        "outputId": "4d6f6b40-41d2-4049-ca3b-ac5241d5870b"
      },
      "source": [
        "#Creating the groupby table\n",
        "videos_per_weekday = combined_data.groupby(by=[\"publish_weekday\"]).count().reset_index().iloc[:,:2].rename(columns={\"trending_date\":\"count\", \"publish_weekday\":\"weekday\"})\n",
        "\n",
        "#Creating a mapping dict to add weekday names\n",
        "weekdays = {1:\"Monday\",\n",
        "            2: \"Tuesday\",\n",
        "            3: \"Wednesday\",\n",
        "            4: \"Thursday\",\n",
        "            5: \"Friday\",\n",
        "            6: \"Saturday\",\n",
        "            7: \"Sunday\"}\n",
        "\n",
        "#Modifying the DF\n",
        "videos_per_weekday[\"weekday\"] = videos_per_weekday[\"weekday\"].apply(lambda x: weekdays[x])\n",
        "\n",
        "#Plotting\n",
        "fig = plt.figure(figsize=(10, 8))\n",
        "ax = sns.barplot(x=\"weekday\", y=\"count\", data=videos_per_weekday)\n",
        "ax.set(xlabel='Weekdays', ylabel='Count', title=\"Number of videos published each weekday\")"
      ],
      "execution_count": null,
      "outputs": [
        {
          "output_type": "execute_result",
          "data": {
            "text/plain": [
              "[Text(0, 0.5, 'Count'),\n",
              " Text(0.5, 0, 'Weekdays'),\n",
              " Text(0.5, 1.0, 'Number of videos published each weekday')]"
            ]
          },
          "metadata": {
            "tags": []
          },
          "execution_count": 39
        },
        {
          "output_type": "display_data",
          "data": {
            "image/png": "[encoded data removed]",
            "text/plain": [
              "<Figure size 720x576 with 1 Axes>"
            ]
          },
          "metadata": {
            "tags": []
          }
        }
      ]
    },
    {
      "cell_type": "markdown",
      "metadata": {
        "id": "qd7dG7GTKrVQ"
      },
      "source": [
        "#### 1.2.6: Dropping irrelevant non numeric columns (1 pt.)\n",
        "\n",
        "Drop all the columns that are non-numeric as we have processed them and stored the information captured in them in the dataset as numbers. Note that a few key columns are non-numeric but should be kept in the dataframe:\n",
        "\n",
        "comments_disabled, ratings_disabled, video_error_or_removed, country\n",
        "\n",
        "Also drop original views, like, comments and dislikes as you have processed them as logs and stored them as separate feature. "
      ]
    },
    {
      "cell_type": "code",
      "metadata": {
        "id": "7J6WM7KlYkw1"
      },
      "source": [
        "#Dropping non-numeric\n",
        "combined_data.drop(columns=[\"title\",\"channel_title\",\"tags\",\"views\",\"likes\",\"comment_count\",\"dislikes\",\"thumbnail_link\",\"description\",\"category\",\"trending_date\",\"publish_time\",\"publish_date\"], inplace = True)"
      ],
      "execution_count": null,
      "outputs": []
    },
    {
      "cell_type": "markdown",
      "metadata": {
        "id": "_HtmJiKYLlxx"
      },
      "source": [
        "#### 1.2.7: Convert categorical features in the dataset into one hot vectors. (3 pts)\n",
        "\n",
        "There are three categorical features remaining in the dataset, identify them and convert them into one hot vectors. Be sure that when you one hot encode, the original column is replaced."
      ]
    },
    {
      "cell_type": "code",
      "metadata": {
        "id": "cO_o548UZjTD"
      },
      "source": [
        "#Converting datatype\n",
        "combined_data.publish_weekday = combined_data.publish_weekday.astype('category')\n",
        "combined_data.country = combined_data.country.astype('category')"
      ],
      "execution_count": null,
      "outputs": []
    },
    {
      "cell_type": "code",
      "metadata": {
        "id": "63tJVBE0Kkju"
      },
      "source": [
        "#One-hot encoding categoerical features\n",
        "dummies = pd.get_dummies(combined_data[['publish_weekday', 'country','category_id']]) #One Hot encding\n",
        "\n",
        "# Drop the column with original categorical variables\n",
        "combined_data_ = combined_data.drop(['publish_weekday', 'country','category_id'], axis=1)\n",
        "combined_data = pd.concat([combined_data_, dummies], axis=1)"
      ],
      "execution_count": null,
      "outputs": []
    },
    {
      "cell_type": "code",
      "metadata": {
        "id": "xoC5xvGGPw-X",
        "colab": {
          "base_uri": "https://localhost:8080/"
        },
        "outputId": "76be3a55-6a19-45d5-b05a-6b88d3be0b2f"
      },
      "source": [
        "# Grader cell 3 pts.\n",
        "grader.grade('check_final_df',(combined_data.shape))"
      ],
      "execution_count": null,
      "outputs": [
        {
          "output_type": "stream",
          "text": [
            "Correct! You earned 3/3 points. You are a star!\n",
            "\n",
            "Your submission has been successfully recorded in the gradebook.\n"
          ],
          "name": "stdout"
        }
      ]
    },
    {
      "cell_type": "markdown",
      "metadata": {
        "id": "kAsgbsEn6lzv"
      },
      "source": [
        "Let's write out the modified data we created to a file so that we can reuse it in Section 2."
      ]
    },
    {
      "cell_type": "code",
      "metadata": {
        "id": "-t8fKXq36k6P"
      },
      "source": [
        "combined_data_sec_2 = combined_data.copy()\n",
        "combined_data_sec_2.rename(columns = {'views_log':'label'}, inplace = True) \n",
        "combined_data_sec_2.to_csv('combined_data.csv')"
      ],
      "execution_count": null,
      "outputs": []
    },
    {
      "cell_type": "markdown",
      "metadata": {
        "id": "FIcXjRtDMlFt"
      },
      "source": [
        "#### 1.2.8: Split into x and y (1 pt)\n",
        "\n",
        "Split the data into features and label, in this case the features are anything but views_log and the label is views_log."
      ]
    },
    {
      "cell_type": "code",
      "metadata": {
        "id": "3nSwRvMSSFa3"
      },
      "source": [
        "# Your code goes here\n",
        "label = combined_data[\"views_log\"]\n",
        "features = combined_data.drop(columns=[\"views_log\"])"
      ],
      "execution_count": null,
      "outputs": []
    },
    {
      "cell_type": "code",
      "metadata": {
        "id": "r6opJ4LOPygd",
        "colab": {
          "base_uri": "https://localhost:8080/"
        },
        "outputId": "619c8e3a-6248-4668-e4c7-de3a8d548e27"
      },
      "source": [
        "# Grader cell 1 pt\n",
        "grader.grade('check_x_y_split',([features.shape, label.describe()]))"
      ],
      "execution_count": null,
      "outputs": [
        {
          "output_type": "stream",
          "text": [
            "Correct! You earned 1/1 points. You are a star!\n",
            "\n",
            "Your submission has been successfully recorded in the gradebook.\n"
          ],
          "name": "stdout"
        }
      ]
    },
    {
      "cell_type": "markdown",
      "metadata": {
        "id": "a9rwVcftQJwu"
      },
      "source": [
        "## 1.3 : Machine Learning using sklearn (15 pts)\n",
        "\n",
        "Scikit-learn (formerly scikits.learn and also known as sklearn) is a free software machine learning library for the Python programming language.[3] It features various classification, regression and clustering algorithms including support vector machines, random forests, gradient boosting, k-means and DBSCAN, and is designed to interoperate with the Python numerical and scientific libraries NumPy and SciPy.\n",
        "\n",
        "You can find the documentation [here](https://scikit-learn.org/stable/modules/classes.html)\n",
        "\n",
        "Now we will train some machine learning models using sklearn to predict views, rather than predicting views directly we will predict views_log to avoid numerical instability issues"
      ]
    },
    {
      "cell_type": "markdown",
      "metadata": {
        "id": "5955JflOaxtP"
      },
      "source": [
        "### 1.3.1 : Split data into train and test (1 pt)\n",
        "\n",
        "Use sklearn's train_test_split library and split data into train and test sets, the split should be 80-20 meaning 80% for training and rest for testing.\n"
      ]
    },
    {
      "cell_type": "code",
      "metadata": {
        "id": "1b5bKkQkR9lT"
      },
      "source": [
        "#Splitting the data\n",
        "x_train, x_test, y_train, y_test = train_test_split(features, label, test_size=0.2)"
      ],
      "execution_count": null,
      "outputs": []
    },
    {
      "cell_type": "code",
      "metadata": {
        "id": "azYR-gZ1QKwK",
        "colab": {
          "base_uri": "https://localhost:8080/"
        },
        "outputId": "47bcfe27-465a-409b-b4e8-497af574e8aa"
      },
      "source": [
        "# Grader cell 1 pt.\n",
        "grader.grade('check_data_split',[x_train.shape,x_test.shape,y_train.shape,y_test.shape])"
      ],
      "execution_count": null,
      "outputs": [
        {
          "output_type": "stream",
          "text": [
            "Correct! You earned 1/1 points. You are a star!\n",
            "\n",
            "Your submission has been successfully recorded in the gradebook.\n"
          ],
          "name": "stdout"
        }
      ]
    },
    {
      "cell_type": "markdown",
      "metadata": {
        "id": "dbfiYK_8RGKI"
      },
      "source": [
        "### 1.3.2: Train Machine Learning Models."
      ]
    },
    {
      "cell_type": "markdown",
      "metadata": {
        "id": "7EPYfVVMRMDd"
      },
      "source": [
        "#### 1.3.2.1 Linear Regression (3 pts)\n",
        "\n",
        "In this step we will train a linear regression model using sklearn. Train using the training data and then make predictions of test, report the mean squared error obtained on both train and test sets."
      ]
    },
    {
      "cell_type": "code",
      "metadata": {
        "id": "A6wS3Rc_TZGT"
      },
      "source": [
        "from sklearn.linear_model import LinearRegression\n",
        "from sklearn.metrics import mean_squared_error\n",
        "\n",
        "#Creating the model\n",
        "reg = LinearRegression().fit(x_train, y_train)\n",
        "\n",
        "#Creating y_pred values\n",
        "y_pred = reg.predict(x_test)\n",
        "\n",
        "#Generating MSE value\n",
        "mse_test = mean_squared_error(y_test, y_test)"
      ],
      "execution_count": null,
      "outputs": []
    },
    {
      "cell_type": "code",
      "metadata": {
        "id": "YmSfKICYQLuh",
        "colab": {
          "base_uri": "https://localhost:8080/"
        },
        "outputId": "02681fc5-ed80-4dbb-e0cd-b52f27b14a2b"
      },
      "source": [
        "grader.grade('check_lr', (np.sqrt(mean_squared_error(y_test, y_pred))))"
      ],
      "execution_count": null,
      "outputs": [
        {
          "output_type": "stream",
          "text": [
            "Correct! You earned 3/3 points. You are a star!\n",
            "\n",
            "Your submission has been successfully recorded in the gradebook.\n"
          ],
          "name": "stdout"
        }
      ]
    },
    {
      "cell_type": "markdown",
      "metadata": {
        "id": "jpu9aiyYbAUS"
      },
      "source": [
        "#### 1.3.2.2  Dimensionality reduction with PCA (6 pts)\n",
        "\n"
      ]
    },
    {
      "cell_type": "markdown",
      "metadata": {
        "id": "aTqcy4x-TXv9"
      },
      "source": [
        "##### Step 1: Fitting PCA and explained_variance_ratiio\n",
        "Use Principal component analysis to reduce number of dimensions of the dataset, as a first step fit a pca model on your train set and then plot the explained_variance_ratio against the number of components to decide the number of components you should keep. (3 pts)"
      ]
    },
    {
      "cell_type": "code",
      "metadata": {
        "id": "NjpuExM0Vx8s",
        "colab": {
          "base_uri": "https://localhost:8080/",
          "height": 299
        },
        "outputId": "882f568d-544c-4847-f629-3375f2789aad"
      },
      "source": [
        "import numpy as np\n",
        "from sklearn.decomposition import PCA\n",
        "\n",
        "# Standardizing the features based on unit variance\n",
        "#x_train = StandardScaler().fit_transform(x_train)\n",
        "\n",
        "#Number of features\n",
        "k = features.shape[1]\n",
        "\n",
        "#Fit the PCA on the training data\n",
        "pca = PCA(n_components = k)\n",
        "x_train_2 = pca.fit_transform(x_train)\n",
        "\n",
        "#Visualize how much is contributed by the first few terms\n",
        "pc_vs_variance = np.cumsum(pca.explained_variance_ratio_)\n",
        "\n",
        "pc_vs_variance\n",
        "plt.plot(pc_vs_variance)\n",
        "plt.xlabel('Features')\n",
        "plt.ylabel('Explained variance')"
      ],
      "execution_count": null,
      "outputs": [
        {
          "output_type": "execute_result",
          "data": {
            "text/plain": [
              "Text(0, 0.5, 'Explained variance')"
            ]
          },
          "metadata": {
            "tags": []
          },
          "execution_count": 51
        },
        {
          "output_type": "display_data",
          "data": {
            "image/png": "[encoded data removed]",
            "text/plain": [
              "<Figure size 432x288 with 1 Axes>"
            ]
          },
          "metadata": {
            "tags": []
          }
        }
      ]
    },
    {
      "cell_type": "code",
      "metadata": {
        "id": "rwQLj3Ynmuca"
      },
      "source": [
        "#Taking the number of features at the elbow\n",
        "optimal_k = 5"
      ],
      "execution_count": null,
      "outputs": []
    },
    {
      "cell_type": "markdown",
      "metadata": {
        "id": "jPbEQwiRR2Ta"
      },
      "source": [
        "##### Step 2: Deciding number of components to keep\n",
        "Use the plot to decide the number of components to keep, choose a number that explains atleast 95% of variance in the dataset. Then fit and transform your pca on training set using the number of components you decided. (1 pts)\n",
        "\n",
        "**Remember that your pca should be trained on the training set (and transformed here) but only transformed on the test set.**"
      ]
    },
    {
      "cell_type": "code",
      "metadata": {
        "id": "5OfN7anNQNFy"
      },
      "source": [
        "#Fit the PCA on the training data\n",
        "pca = PCA(n_components = optimal_k)\n",
        "pca.fit(x_train)\n",
        "\n",
        "# and transform it\n",
        "x_train_2 = pca.transform(x_train)\n",
        "x_test_2 = pca.transform(x_test)"
      ],
      "execution_count": null,
      "outputs": []
    },
    {
      "cell_type": "code",
      "metadata": {
        "id": "lPiFyPW2XmPr",
        "colab": {
          "base_uri": "https://localhost:8080/"
        },
        "outputId": "ad31bfd1-ec26-4f83-9827-bb558a0114ff"
      },
      "source": [
        "# Grader cell 3 pts.\n",
        "grader.grade('check_pca', (x_train_2[:50,:]))"
      ],
      "execution_count": null,
      "outputs": [
        {
          "output_type": "stream",
          "text": [
            "Correct! You earned 6/6 points. You are a star!\n",
            "\n",
            "Your submission has been successfully recorded in the gradebook.\n"
          ],
          "name": "stdout"
        }
      ]
    },
    {
      "cell_type": "markdown",
      "metadata": {
        "id": "4sw_JKLLbMcc"
      },
      "source": [
        "### 1.3.2.3 Random Forest. (10 pts)\n",
        "\n"
      ]
    },
    {
      "cell_type": "markdown",
      "metadata": {
        "id": "UwTfPha2TUub"
      },
      "source": [
        "##### Step 1: Hyperparameter tuning. \n",
        "Use grid search and train a random forest model on the transformed train dataset. Take a look at the sklearn `RandomForestRegressor` documentation and tune the max_depth hyperparameter using grid search. We have already tested the number of estimators hyperparameter for you. Note this section may take a while to run depending on how large your grid is. \n",
        "\n",
        "(Hint: refer to the GridSearchCV documentation and do some reading on how the max_depth in a RF model affects the result - while theory may help guide a rough estimate of possible hyperparameters, we can cross validate values using tools like GridSearch.\n",
        "\n",
        "Our autograder has tiered points for this question depending on your final MSE value but is fairly generous; we are not requiring that you find the **most** optimal value for this hyperparameter but rather demonstrate understanding of grid search optimization. (4 pts)\n"
      ]
    },
    {
      "cell_type": "code",
      "metadata": {
        "id": "yC9Y69n7crf5",
        "colab": {
          "base_uri": "https://localhost:8080/"
        },
        "outputId": "c896aea5-a15a-44d8-b86a-4873be352fcd"
      },
      "source": [
        "from sklearn.ensemble import RandomForestRegressor\n",
        "from sklearn.model_selection import GridSearchCV\n",
        "# Only tune the max depth of the trees in the RF hyperparameter\n",
        "depth = [10, 20]\n",
        "nEstimator = [140]\n",
        "\n",
        "#Storing the names of the hyperparameters we want to optimize in a dictionary:\n",
        "params = {'max_depth': depth, 'n_estimators' : nEstimator}\n",
        "\n",
        "#Using the RandomizedSearchCV function to optimize the specified paramters\n",
        "grid = GridSearchCV(RandomForestRegressor(), param_grid = params, scoring = 'neg_mean_squared_error')\n",
        "\n",
        "#Fitting\n",
        "grid.fit(x_train_2, y_train)"
      ],
      "execution_count": null,
      "outputs": [
        {
          "output_type": "execute_result",
          "data": {
            "text/plain": [
              "GridSearchCV(cv=None, error_score=nan,\n",
              "             estimator=RandomForestRegressor(bootstrap=True, ccp_alpha=0.0,\n",
              "                                             criterion='mse', max_depth=None,\n",
              "                                             max_features='auto',\n",
              "                                             max_leaf_nodes=None,\n",
              "                                             max_samples=None,\n",
              "                                             min_impurity_decrease=0.0,\n",
              "                                             min_impurity_split=None,\n",
              "                                             min_samples_leaf=1,\n",
              "                                             min_samples_split=2,\n",
              "                                             min_weight_fraction_leaf=0.0,\n",
              "                                             n_estimators=100, n_jobs=None,\n",
              "                                             oob_score=False, random_state=None,\n",
              "                                             verbose=0, warm_start=False),\n",
              "             iid='deprecated', n_jobs=None,\n",
              "             param_grid={'max_depth': [10, 20], 'n_estimators': [140]},\n",
              "             pre_dispatch='2*n_jobs', refit=True, return_train_score=False,\n",
              "             scoring='neg_mean_squared_error', verbose=0)"
            ]
          },
          "metadata": {
            "tags": []
          },
          "execution_count": 55
        }
      ]
    },
    {
      "cell_type": "code",
      "metadata": {
        "id": "sg461DQjt4mr",
        "colab": {
          "base_uri": "https://localhost:8080/"
        },
        "outputId": "de3b066f-f099-4595-ca5c-8273097124be"
      },
      "source": [
        "#Get best parameter\n",
        "best_max_depth = grid.best_params_[\"max_depth\"]\n",
        "best_max_depth"
      ],
      "execution_count": null,
      "outputs": [
        {
          "output_type": "execute_result",
          "data": {
            "text/plain": [
              "20"
            ]
          },
          "metadata": {
            "tags": []
          },
          "execution_count": 56
        }
      ]
    },
    {
      "cell_type": "markdown",
      "metadata": {
        "id": "cLnVsNVzS2Co"
      },
      "source": [
        "##### Step 2: Fitting RF\n",
        "Fit the random forest on the training data using the parameters you computed above. Then make predictions on the test set, report the root mean squared error for the test set. (3 pts)"
      ]
    },
    {
      "cell_type": "code",
      "metadata": {
        "id": "3avoNnIaZe3P"
      },
      "source": [
        "# Setting up the optimized RF\n",
        "rf = RandomForestRegressor(max_depth = best_max_depth, n_estimators = 140)\n",
        "\n",
        "#Fitting the model\n",
        "fit_rf = rf.fit(x_train, y_train)\n",
        "\n",
        "#Generating prediction values\n",
        "y_pred = fit_rf.predict(x_test)"
      ],
      "execution_count": null,
      "outputs": []
    },
    {
      "cell_type": "code",
      "metadata": {
        "id": "Nb-whcYRUasS",
        "colab": {
          "base_uri": "https://localhost:8080/"
        },
        "outputId": "8af6e64a-2b2f-4494-e9f6-52bcbb033c1e"
      },
      "source": [
        "np.sqrt(mean_squared_error(y_test, y_pred))"
      ],
      "execution_count": null,
      "outputs": [
        {
          "output_type": "execute_result",
          "data": {
            "text/plain": [
              "0.45534291800100185"
            ]
          },
          "metadata": {
            "tags": []
          },
          "execution_count": 58
        }
      ]
    },
    {
      "cell_type": "code",
      "metadata": {
        "id": "XYrdo2CgTThM",
        "colab": {
          "base_uri": "https://localhost:8080/"
        },
        "outputId": "34ee06bc-3ea6-4c68-82a7-5168af3d8020"
      },
      "source": [
        "# Grader cell 10 pts\n",
        "grader.grade('check_rf', (np.sqrt(mean_squared_error(y_test, y_pred))))"
      ],
      "execution_count": null,
      "outputs": [
        {
          "output_type": "stream",
          "text": [
            "Correct! You earned 10/10 points. You are a star!\n",
            "\n",
            "Your submission has been successfully recorded in the gradebook.\n"
          ],
          "name": "stdout"
        }
      ]
    },
    {
      "cell_type": "markdown",
      "metadata": {
        "id": "-ywlOaie7wVF"
      },
      "source": [
        "## A Blissful Break\n",
        "\n",
        "Well done! Almost halfway there :)\n",
        "\n",
        "Take a well deserved break! Talk to your friends (on zoom, social distancing is important! :P), scroll through your Instagram feed or watch a video. Nothing better than cute dog videos! [Here](https://www.youtube.com/watch?v=hOzxphPUI0s) is our recommendation, we promise that the link works this time :)"
      ]
    },
    {
      "cell_type": "markdown",
      "metadata": {
        "id": "q_eSiS5ZbVjf"
      },
      "source": [
        "# Section 2 : Distributed Machine Learning with Spark (55 Points)\n",
        "\n",
        "Apache Spark ML is the machine learning library consisting of common learning algorithms and utilities, including classification, regression, clustering, collaborative filtering, dimensionality reduction, and underlying optimization primitives.\n",
        "\n",
        "Why Spark ML?\n",
        "\n",
        "Moving to the Big Data Era requires heavy iterative computations on very big datasets. Standard implementations of machine learning algorithms require very powerful machines to be able to run. Depending on high-end machines is not advantageous due to their high price and improper costs of scaling up. The idea of using distributed computing engines is to distribute the calculations to multiple low-end machines (commodity hardware) instead of a single high-end one. This definitely speeds up the learning phase and allows us to create better models.\n",
        "\n",
        "Read more about it with the python documentation [here](https://spark.apache.org/docs/latest/ml-guide.html)"
      ]
    },
    {
      "cell_type": "markdown",
      "metadata": {
        "id": "R4nyIijZhTXK"
      },
      "source": [
        "### Initializing Spark Connection - Boring setup stuff again\n"
      ]
    },
    {
      "cell_type": "code",
      "metadata": {
        "id": "G8RH4R771X6n",
        "colab": {
          "base_uri": "https://localhost:8080/"
        },
        "outputId": "3340936e-45a0-439a-ff1f-42d2db97905f"
      },
      "source": [
        "!apt install libkrb5-dev\n",
        "!wget https://www-us.apache.org/dist/spark/spark-2.4.5/spark-2.4.5-bin-hadoop2.7.tgz\n",
        "!tar xf spark-2.4.5-bin-hadoop2.7.tgz\n",
        "!pip install findspark\n",
        "!pip install sparkmagic\n",
        "!pip install pyspark\n",
        "!pip install pyspark --user\n",
        "!pip install seaborn --user\n",
        "!pip install plotly --user\n",
        "!pip install imageio --user\n",
        "!pip install folium --user"
      ],
      "execution_count": null,
      "outputs": [
        {
          "output_type": "stream",
          "text": [
            "Reading package lists... Done\n",
            "Building dependency tree       \n",
            "Reading state information... Done\n",
            "libkrb5-dev is already the newest version (1.16-2ubuntu0.1).\n",
            "0 upgraded, 0 newly installed, 0 to remove and 42 not upgraded.\n",
            "--2020-11-16 22:42:53--  https://www-us.apache.org/dist/spark/spark-2.4.5/spark-2.4.5-bin-hadoop2.7.tgz\n",
            "Resolving www-us.apache.org (www-us.apache.org)... 40.79.78.1\n",
            "Connecting to www-us.apache.org (www-us.apache.org)|40.79.78.1|:443... connected.\n",
            "HTTP request sent, awaiting response... 302 Found\n",
            "Location: https://downloads.apache.org/spark/spark-2.4.5/spark-2.4.5-bin-hadoop2.7.tgz [following]\n",
            "--2020-11-16 22:42:54--  https://downloads.apache.org/spark/spark-2.4.5/spark-2.4.5-bin-hadoop2.7.tgz\n",
            "Resolving downloads.apache.org (downloads.apache.org)... 88.99.95.219, 2a01:4f8:10a:201a::2\n",
            "Connecting to downloads.apache.org (downloads.apache.org)|88.99.95.219|:443... connected.\n",
            "HTTP request sent, awaiting response... 404 Not Found\n",
            "2020-11-16 22:42:54 ERROR 404: Not Found.\n",
            "\n",
            "tar: spark-2.4.5-bin-hadoop2.7.tgz: Cannot open: No such file or directory\n",
            "tar: Error is not recoverable: exiting now\n",
            "Requirement already satisfied: findspark in /usr/local/lib/python3.6/dist-packages (1.4.2)\n",
            "Requirement already satisfied: sparkmagic in /usr/local/lib/python3.6/dist-packages (0.17.0)\n",
            "Requirement already satisfied: ipywidgets>5.0.0 in /usr/local/lib/python3.6/dist-packages (from sparkmagic) (7.5.1)\n",
            "Requirement already satisfied: tornado>=4 in /usr/local/lib/python3.6/dist-packages (from sparkmagic) (5.1.1)\n",
            "Requirement already satisfied: hdijupyterutils>=0.6 in /usr/local/lib/python3.6/dist-packages (from sparkmagic) (0.17.0)\n",
            "Requirement already satisfied: nose in /usr/local/lib/python3.6/dist-packages (from sparkmagic) (1.3.7)\n",
            "Requirement already satisfied: notebook>=4.2 in /usr/local/lib/python3.6/dist-packages (from sparkmagic) (5.3.1)\n",
            "Requirement already satisfied: pandas>=0.17.1 in /usr/local/lib/python3.6/dist-packages (from sparkmagic) (1.0.5)\n",
            "Requirement already satisfied: ipykernel in /usr/local/lib/python3.6/dist-packages (from sparkmagic) (4.10.1)\n",
            "Requirement already satisfied: mock in /usr/local/lib/python3.6/dist-packages (from sparkmagic) (4.0.2)\n",
            "Requirement already satisfied: numpy in /usr/local/lib/python3.6/dist-packages (from sparkmagic) (1.18.5)\n",
            "Requirement already satisfied: ipython>=4.0.2 in /usr/local/lib/python3.6/dist-packages (from sparkmagic) (5.5.0)\n",
            "Requirement already satisfied: autovizwidget>=0.6 in /usr/local/lib/python3.6/dist-packages (from sparkmagic) (0.17.0)\n",
            "Requirement already satisfied: requests in /usr/local/lib/python3.6/dist-packages (from sparkmagic) (2.23.0)\n",
            "Requirement already satisfied: requests-kerberos>=0.8.0 in /usr/local/lib/python3.6/dist-packages (from sparkmagic) (0.12.0)\n",
            "Requirement already satisfied: traitlets>=4.3.1 in /usr/local/lib/python3.6/dist-packages (from ipywidgets>5.0.0->sparkmagic) (4.3.3)\n",
            "Requirement already satisfied: nbformat>=4.2.0 in /usr/local/lib/python3.6/dist-packages (from ipywidgets>5.0.0->sparkmagic) (5.0.8)\n",
            "Requirement already satisfied: widgetsnbextension~=3.5.0 in /usr/local/lib/python3.6/dist-packages (from ipywidgets>5.0.0->sparkmagic) (3.5.1)\n",
            "Requirement already satisfied: jupyter>=1 in /usr/local/lib/python3.6/dist-packages (from hdijupyterutils>=0.6->sparkmagic) (1.0.0)\n",
            "Requirement already satisfied: Send2Trash in /usr/local/lib/python3.6/dist-packages (from notebook>=4.2->sparkmagic) (1.5.0)\n",
            "Requirement already satisfied: jupyter-core>=4.4.0 in /usr/local/lib/python3.6/dist-packages (from notebook>=4.2->sparkmagic) (4.6.3)\n",
            "Requirement already satisfied: terminado>=0.8.1 in /usr/local/lib/python3.6/dist-packages (from notebook>=4.2->sparkmagic) (0.9.1)\n",
            "Requirement already satisfied: nbconvert in /usr/local/lib/python3.6/dist-packages (from notebook>=4.2->sparkmagic) (5.6.1)\n",
            "Requirement already satisfied: jinja2 in /usr/local/lib/python3.6/dist-packages (from notebook>=4.2->sparkmagic) (2.11.2)\n",
            "Requirement already satisfied: ipython-genutils in /usr/local/lib/python3.6/dist-packages (from notebook>=4.2->sparkmagic) (0.2.0)\n",
            "Requirement already satisfied: jupyter-client>=5.2.0 in /usr/local/lib/python3.6/dist-packages (from notebook>=4.2->sparkmagic) (5.3.5)\n",
            "Requirement already satisfied: python-dateutil>=2.6.1 in /usr/local/lib/python3.6/dist-packages (from pandas>=0.17.1->sparkmagic) (2.8.1)\n",
            "Requirement already satisfied: pytz>=2017.2 in /usr/local/lib/python3.6/dist-packages (from pandas>=0.17.1->sparkmagic) (2018.9)\n",
            "Requirement already satisfied: setuptools>=18.5 in /usr/local/lib/python3.6/dist-packages (from ipython>=4.0.2->sparkmagic) (50.3.2)\n",
            "Requirement already satisfied: pygments in /usr/local/lib/python3.6/dist-packages (from ipython>=4.0.2->sparkmagic) (2.6.1)\n",
            "Requirement already satisfied: pexpect; sys_platform != \"win32\" in /usr/local/lib/python3.6/dist-packages (from ipython>=4.0.2->sparkmagic) (4.8.0)\n",
            "Requirement already satisfied: simplegeneric>0.8 in /usr/local/lib/python3.6/dist-packages (from ipython>=4.0.2->sparkmagic) (0.8.1)\n",
            "Requirement already satisfied: pickleshare in /usr/local/lib/python3.6/dist-packages (from ipython>=4.0.2->sparkmagic) (0.7.5)\n",
            "Requirement already satisfied: prompt-toolkit<2.0.0,>=1.0.4 in /usr/local/lib/python3.6/dist-packages (from ipython>=4.0.2->sparkmagic) (1.0.18)\n",
            "Requirement already satisfied: decorator in /usr/local/lib/python3.6/dist-packages (from ipython>=4.0.2->sparkmagic) (4.4.2)\n",
            "Requirement already satisfied: plotly>=3 in /usr/local/lib/python3.6/dist-packages (from autovizwidget>=0.6->sparkmagic) (4.4.1)\n",
            "Requirement already satisfied: idna<3,>=2.5 in /usr/local/lib/python3.6/dist-packages (from requests->sparkmagic) (2.10)\n",
            "Requirement already satisfied: chardet<4,>=3.0.2 in /usr/local/lib/python3.6/dist-packages (from requests->sparkmagic) (3.0.4)\n",
            "Requirement already satisfied: urllib3!=1.25.0,!=1.25.1,<1.26,>=1.21.1 in /usr/local/lib/python3.6/dist-packages (from requests->sparkmagic) (1.25.11)\n",
            "Requirement already satisfied: certifi>=2017.4.17 in /usr/local/lib/python3.6/dist-packages (from requests->sparkmagic) (2020.6.20)\n",
            "Requirement already satisfied: pykerberos<2.0.0,>=1.1.8; sys_platform != \"win32\" in /usr/local/lib/python3.6/dist-packages (from requests-kerberos>=0.8.0->sparkmagic) (1.2.1)\n",
            "Requirement already satisfied: cryptography>=1.3; python_version != \"3.3\" in /usr/local/lib/python3.6/dist-packages (from requests-kerberos>=0.8.0->sparkmagic) (3.2.1)\n",
            "Requirement already satisfied: six in /usr/local/lib/python3.6/dist-packages (from traitlets>=4.3.1->ipywidgets>5.0.0->sparkmagic) (1.15.0)\n",
            "Requirement already satisfied: jsonschema!=2.5.0,>=2.4 in /usr/local/lib/python3.6/dist-packages (from nbformat>=4.2.0->ipywidgets>5.0.0->sparkmagic) (2.6.0)\n",
            "Requirement already satisfied: jupyter-console in /usr/local/lib/python3.6/dist-packages (from jupyter>=1->hdijupyterutils>=0.6->sparkmagic) (5.2.0)\n",
            "Requirement already satisfied: qtconsole in /usr/local/lib/python3.6/dist-packages (from jupyter>=1->hdijupyterutils>=0.6->sparkmagic) (4.7.7)\n",
            "Requirement already satisfied: ptyprocess; os_name != \"nt\" in /usr/local/lib/python3.6/dist-packages (from terminado>=0.8.1->notebook>=4.2->sparkmagic) (0.6.0)\n",
            "Requirement already satisfied: pandocfilters>=1.4.1 in /usr/local/lib/python3.6/dist-packages (from nbconvert->notebook>=4.2->sparkmagic) (1.4.3)\n",
            "Requirement already satisfied: bleach in /usr/local/lib/python3.6/dist-packages (from nbconvert->notebook>=4.2->sparkmagic) (3.2.1)\n",
            "Requirement already satisfied: testpath in /usr/local/lib/python3.6/dist-packages (from nbconvert->notebook>=4.2->sparkmagic) (0.4.4)\n",
            "Requirement already satisfied: mistune<2,>=0.8.1 in /usr/local/lib/python3.6/dist-packages (from nbconvert->notebook>=4.2->sparkmagic) (0.8.4)\n",
            "Requirement already satisfied: entrypoints>=0.2.2 in /usr/local/lib/python3.6/dist-packages (from nbconvert->notebook>=4.2->sparkmagic) (0.3)\n",
            "Requirement already satisfied: defusedxml in /usr/local/lib/python3.6/dist-packages (from nbconvert->notebook>=4.2->sparkmagic) (0.6.0)\n",
            "Requirement already satisfied: MarkupSafe>=0.23 in /usr/local/lib/python3.6/dist-packages (from jinja2->notebook>=4.2->sparkmagic) (1.1.1)\n",
            "Requirement already satisfied: pyzmq>=13 in /usr/local/lib/python3.6/dist-packages (from jupyter-client>=5.2.0->notebook>=4.2->sparkmagic) (19.0.2)\n",
            "Requirement already satisfied: wcwidth in /usr/local/lib/python3.6/dist-packages (from prompt-toolkit<2.0.0,>=1.0.4->ipython>=4.0.2->sparkmagic) (0.2.5)\n",
            "Requirement already satisfied: retrying>=1.3.3 in /usr/local/lib/python3.6/dist-packages (from plotly>=3->autovizwidget>=0.6->sparkmagic) (1.3.3)\n",
            "Requirement already satisfied: cffi!=1.11.3,>=1.8 in /usr/local/lib/python3.6/dist-packages (from cryptography>=1.3; python_version != \"3.3\"->requests-kerberos>=0.8.0->sparkmagic) (1.14.3)\n",
            "Requirement already satisfied: qtpy in /usr/local/lib/python3.6/dist-packages (from qtconsole->jupyter>=1->hdijupyterutils>=0.6->sparkmagic) (1.9.0)\n",
            "Requirement already satisfied: packaging in /usr/local/lib/python3.6/dist-packages (from bleach->nbconvert->notebook>=4.2->sparkmagic) (20.4)\n",
            "Requirement already satisfied: webencodings in /usr/local/lib/python3.6/dist-packages (from bleach->nbconvert->notebook>=4.2->sparkmagic) (0.5.1)\n",
            "Requirement already satisfied: pycparser in /usr/local/lib/python3.6/dist-packages (from cffi!=1.11.3,>=1.8->cryptography>=1.3; python_version != \"3.3\"->requests-kerberos>=0.8.0->sparkmagic) (2.20)\n",
            "Requirement already satisfied: pyparsing>=2.0.2 in /usr/local/lib/python3.6/dist-packages (from packaging->bleach->nbconvert->notebook>=4.2->sparkmagic) (2.4.7)\n",
            "Requirement already satisfied: pyspark in /usr/local/lib/python3.6/dist-packages (3.0.1)\n",
            "Requirement already satisfied: py4j==0.10.9 in /usr/local/lib/python3.6/dist-packages (from pyspark) (0.10.9)\n",
            "Requirement already satisfied: pyspark in /usr/local/lib/python3.6/dist-packages (3.0.1)\n",
            "Requirement already satisfied: py4j==0.10.9 in /usr/local/lib/python3.6/dist-packages (from pyspark) (0.10.9)\n",
            "Requirement already satisfied: seaborn in /usr/local/lib/python3.6/dist-packages (0.11.0)\n",
            "Requirement already satisfied: matplotlib>=2.2 in /usr/local/lib/python3.6/dist-packages (from seaborn) (3.2.2)\n",
            "Requirement already satisfied: pandas>=0.23 in /usr/local/lib/python3.6/dist-packages (from seaborn) (1.0.5)\n",
            "Requirement already satisfied: scipy>=1.0 in /usr/local/lib/python3.6/dist-packages (from seaborn) (1.4.1)\n",
            "Requirement already satisfied: numpy>=1.15 in /usr/local/lib/python3.6/dist-packages (from seaborn) (1.18.5)\n",
            "Requirement already satisfied: pyparsing!=2.0.4,!=2.1.2,!=2.1.6,>=2.0.1 in /usr/local/lib/python3.6/dist-packages (from matplotlib>=2.2->seaborn) (2.4.7)\n",
            "Requirement already satisfied: python-dateutil>=2.1 in /usr/local/lib/python3.6/dist-packages (from matplotlib>=2.2->seaborn) (2.8.1)\n",
            "Requirement already satisfied: kiwisolver>=1.0.1 in /usr/local/lib/python3.6/dist-packages (from matplotlib>=2.2->seaborn) (1.3.1)\n",
            "Requirement already satisfied: cycler>=0.10 in /usr/local/lib/python3.6/dist-packages (from matplotlib>=2.2->seaborn) (0.10.0)\n",
            "Requirement already satisfied: pytz>=2017.2 in /usr/local/lib/python3.6/dist-packages (from pandas>=0.23->seaborn) (2018.9)\n",
            "Requirement already satisfied: six>=1.5 in /usr/local/lib/python3.6/dist-packages (from python-dateutil>=2.1->matplotlib>=2.2->seaborn) (1.15.0)\n",
            "Requirement already satisfied: plotly in /usr/local/lib/python3.6/dist-packages (4.4.1)\n",
            "Requirement already satisfied: six in /usr/local/lib/python3.6/dist-packages (from plotly) (1.15.0)\n",
            "Requirement already satisfied: retrying>=1.3.3 in /usr/local/lib/python3.6/dist-packages (from plotly) (1.3.3)\n",
            "Requirement already satisfied: imageio in /usr/local/lib/python3.6/dist-packages (2.4.1)\n",
            "Requirement already satisfied: numpy in /usr/local/lib/python3.6/dist-packages (from imageio) (1.18.5)\n",
            "Requirement already satisfied: pillow in /usr/local/lib/python3.6/dist-packages (from imageio) (7.0.0)\n",
            "Requirement already satisfied: folium in /usr/local/lib/python3.6/dist-packages (0.8.3)\n",
            "Requirement already satisfied: six in /usr/local/lib/python3.6/dist-packages (from folium) (1.15.0)\n",
            "Requirement already satisfied: requests in /usr/local/lib/python3.6/dist-packages (from folium) (2.23.0)\n",
            "Requirement already satisfied: branca>=0.3.0 in /usr/local/lib/python3.6/dist-packages (from folium) (0.4.1)\n",
            "Requirement already satisfied: numpy in /usr/local/lib/python3.6/dist-packages (from folium) (1.18.5)\n",
            "Requirement already satisfied: jinja2 in /usr/local/lib/python3.6/dist-packages (from folium) (2.11.2)\n",
            "Requirement already satisfied: certifi>=2017.4.17 in /usr/local/lib/python3.6/dist-packages (from requests->folium) (2020.6.20)\n",
            "Requirement already satisfied: chardet<4,>=3.0.2 in /usr/local/lib/python3.6/dist-packages (from requests->folium) (3.0.4)\n",
            "Requirement already satisfied: idna<3,>=2.5 in /usr/local/lib/python3.6/dist-packages (from requests->folium) (2.10)\n",
            "Requirement already satisfied: urllib3!=1.25.0,!=1.25.1,<1.26,>=1.21.1 in /usr/local/lib/python3.6/dist-packages (from requests->folium) (1.25.11)\n",
            "Requirement already satisfied: MarkupSafe>=0.23 in /usr/local/lib/python3.6/dist-packages (from jinja2->folium) (1.1.1)\n"
          ],
          "name": "stdout"
        }
      ]
    },
    {
      "cell_type": "code",
      "metadata": {
        "id": "pNctzcXRkexY",
        "colab": {
          "base_uri": "https://localhost:8080/"
        },
        "outputId": "5344bcca-123d-4394-bfeb-9d1b0fb64940"
      },
      "source": [
        "!apt update\n",
        "!apt install gcc python-dev libkrb5-dev"
      ],
      "execution_count": null,
      "outputs": [
        {
          "output_type": "stream",
          "text": [
            "\u001b[33m\r0% [Working]\u001b[0m\r            \rHit:1 https://cloud.r-project.org/bin/linux/ubuntu bionic-cran40/ InRelease\n",
            "\u001b[33m\r0% [Connecting to archive.ubuntu.com] [Connecting to security.ubuntu.com (91.18\u001b[0m\u001b[33m\r0% [1 InRelease gpgv 3,626 B] [Connecting to archive.ubuntu.com (91.189.88.142)\u001b[0m\r                                                                               \rIgn:2 https://developer.download.nvidia.com/compute/cuda/repos/ubuntu1804/x86_64  InRelease\n",
            "\u001b[33m\r0% [1 InRelease gpgv 3,626 B] [Connecting to archive.ubuntu.com (91.189.88.142)\u001b[0m\r                                                                               \rIgn:3 https://developer.download.nvidia.com/compute/machine-learning/repos/ubuntu1804/x86_64  InRelease\n",
            "\u001b[33m\r0% [1 InRelease gpgv 3,626 B] [Connecting to archive.ubuntu.com (91.189.88.142)\u001b[0m\r                                                                               \rHit:4 http://ppa.launchpad.net/c2d4u.team/c2d4u4.0+/ubuntu bionic InRelease\n",
            "\u001b[33m\r0% [1 InRelease gpgv 3,626 B] [Connecting to archive.ubuntu.com (91.189.88.142)\u001b[0m\r                                                                               \rHit:5 https://developer.download.nvidia.com/compute/cuda/repos/ubuntu1804/x86_64  Release\n",
            "\u001b[33m\r0% [1 InRelease gpgv 3,626 B] [Connecting to archive.ubuntu.com (91.189.88.142)\u001b[0m\r                                                                               \rHit:6 https://developer.download.nvidia.com/compute/machine-learning/repos/ubuntu1804/x86_64  Release\n",
            "Get:7 http://security.ubuntu.com/ubuntu bionic-security InRelease [88.7 kB]\n",
            "Hit:8 http://archive.ubuntu.com/ubuntu bionic InRelease\n",
            "Hit:9 http://ppa.launchpad.net/graphics-drivers/ppa/ubuntu bionic InRelease\n",
            "Get:10 http://archive.ubuntu.com/ubuntu bionic-updates InRelease [88.7 kB]\n",
            "Get:12 http://archive.ubuntu.com/ubuntu bionic-backports InRelease [74.6 kB]\n",
            "Get:14 http://archive.ubuntu.com/ubuntu bionic-updates/main amd64 Packages [2,208 kB]\n",
            "Get:15 http://archive.ubuntu.com/ubuntu bionic-updates/multiverse amd64 Packages [54.4 kB]\n",
            "Get:16 http://archive.ubuntu.com/ubuntu bionic-updates/restricted amd64 Packages [252 kB]\n",
            "Get:17 http://archive.ubuntu.com/ubuntu bionic-updates/universe amd64 Packages [2,130 kB]\n",
            "Fetched 4,897 kB in 3s (1,839 kB/s)\n",
            "Reading package lists... Done\n",
            "Building dependency tree       \n",
            "Reading state information... Done\n",
            "42 packages can be upgraded. Run 'apt list --upgradable' to see them.\n",
            "Reading package lists... Done\n",
            "Building dependency tree       \n",
            "Reading state information... Done\n",
            "python-dev is already the newest version (2.7.15~rc1-1).\n",
            "gcc is already the newest version (4:7.4.0-1ubuntu2.3).\n",
            "libkrb5-dev is already the newest version (1.16-2ubuntu0.1).\n",
            "0 upgraded, 0 newly installed, 0 to remove and 42 not upgraded.\n"
          ],
          "name": "stdout"
        }
      ]
    },
    {
      "cell_type": "code",
      "metadata": {
        "id": "PP28kxLekWG7"
      },
      "source": [
        "from pyspark.sql import SparkSession\n",
        "from pyspark.sql.types import *\n",
        "import pyspark.sql.functions as F\n",
        "\n",
        "import os\n",
        "\n",
        "spark = SparkSession.builder.appName('ml-hw4').getOrCreate()"
      ],
      "execution_count": null,
      "outputs": []
    },
    {
      "cell_type": "code",
      "metadata": {
        "id": "7Gm6aXPq1Ulc"
      },
      "source": [
        "%load_ext sparkmagic.magics"
      ],
      "execution_count": null,
      "outputs": []
    },
    {
      "cell_type": "code",
      "metadata": {
        "id": "NiGROEgu1gfN"
      },
      "source": [
        "#graph section\n",
        "import networkx as nx\n",
        "# SQLite RDBMS\n",
        "import sqlite3\n",
        "# Parallel processing\n",
        "# import swifter\n",
        "import pandas as pd\n",
        "# NoSQL DB\n",
        "from pymongo import MongoClient\n",
        "from pymongo.errors import DuplicateKeyError, OperationFailure\n",
        "\n",
        "import os\n",
        "os.environ['SPARK_HOME'] = '/content/spark-2.4.5-bin-hadoop2.7'\n",
        "os.environ[\"JAVA_HOME\"] = \"/usr/lib/jvm/java-8-openjdk-amd64\"\n",
        "import pyspark\n",
        "from pyspark.sql import SQLContext"
      ],
      "execution_count": null,
      "outputs": []
    },
    {
      "cell_type": "code",
      "metadata": {
        "id": "bF0xipwC1hme"
      },
      "source": [
        "try:\n",
        "    if(spark == None):\n",
        "        spark = SparkSession.builder.appName('Initial').getOrCreate()\n",
        "        sqlContext=SQLContext(spark)\n",
        "except NameError:\n",
        "    spark = SparkSession.builder.appName('Initial').getOrCreate()\n",
        "    sqlContext=SQLContext(spark)\n"
      ],
      "execution_count": null,
      "outputs": []
    },
    {
      "cell_type": "markdown",
      "metadata": {
        "id": "cbj7zOGQW7A2"
      },
      "source": [
        "### 2.1 Data for Spark ML (20 points)\n",
        "\n",
        "We have the spark setup ready. Now we need the fuel for our ML algorithms i.e. the data. We will use the data you processed in Section 1 but in spark. \n",
        "\n",
        "Read in the csv that you created into a spark dataframe. Make sure to set the \"inferSchema\" flag to True when you do this so that the columns are the correct datatypes and not all strings. Also note the parameter to set the first row as column headers."
      ]
    },
    {
      "cell_type": "code",
      "metadata": {
        "id": "EFfs7q3P1KHX"
      },
      "source": [
        "#Reading in the data\n",
        "train_sdf = spark.read.csv('combined_data.csv', inferSchema=True, header=True)"
      ],
      "execution_count": null,
      "outputs": []
    },
    {
      "cell_type": "markdown",
      "metadata": {
        "id": "CbC1qlzhXd6L"
      },
      "source": [
        "Just make sure everything looks good"
      ]
    },
    {
      "cell_type": "code",
      "metadata": {
        "id": "sTb1GN4-1EXc",
        "colab": {
          "base_uri": "https://localhost:8080/"
        },
        "outputId": "8e2cbad3-cc75-4436-d3a7-625074d1dca7"
      },
      "source": [
        "train_sdf.show()"
      ],
      "execution_count": null,
      "outputs": [
        {
          "output_type": "stream",
          "text": [
            "+-----------+-----------------+----------------+----------------------+------------------+------------------+------------------+-----------------+--------+--------+---------+-----------------+-----------------+-----------------+-----------------+-----------------+-----------------+-----------------+----------+----------+----------+----------+-------------+--------------+--------------+--------------+--------------+-------------+--------------+--------------+--------------+--------------+--------------+--------------+--------------+--------------+--------------+--------------+--------------+--------------+\n",
            "|   video_id|comments_disabled|ratings_disabled|video_error_or_removed|         likes_log|             label|      dislikes_log|      comment_log|num_tags|desc_len|len_title|publish_weekday_1|publish_weekday_2|publish_weekday_3|publish_weekday_4|publish_weekday_5|publish_weekday_6|publish_weekday_7|country_CA|country_FR|country_IN|country_US|category_id_1|category_id_10|category_id_15|category_id_17|category_id_19|category_id_2|category_id_20|category_id_22|category_id_23|category_id_24|category_id_25|category_id_26|category_id_27|category_id_28|category_id_29|category_id_30|category_id_43|category_id_44|\n",
            "+-----------+-----------------+----------------+----------------------+------------------+------------------+------------------+-----------------+--------+--------+---------+-----------------+-----------------+-----------------+-----------------+-----------------+-----------------+-----------------+----------+----------+----------+----------+-------------+--------------+--------------+--------------+--------------+-------------+--------------+--------------+--------------+--------------+--------------+--------------+--------------+--------------+--------------+--------------+--------------+--------------+\n",
            "|Ro6eob0LrCY|            false|           false|                 false|10.284762421843075|12.267652105461218| 7.011213987350367|8.247482004285693|       6|    1412|       40|                1|                0|                0|                0|                0|                0|                0|         0|         1|         0|         0|            0|             0|             0|             0|             0|            0|             0|             0|             0|             1|             0|             0|             0|             0|             0|             0|             0|             0|\n",
            "|Yo84eqYwP98|            false|           false|                 false| 9.550662331752143|12.977850768461046|   6.3578422665081|7.057897937411856|       1|    1828|      100|                0|                0|                0|                0|                0|                0|                1|         0|         1|         0|         0|            0|             0|             0|             0|             0|            0|             0|             0|             0|             1|             0|             0|             0|             0|             0|             0|             0|             0|\n",
            "|ceqntSXE-10|            false|           false|                 false|11.241169233735326|13.086018844077508| 6.169610732491456|9.167537249650874|       5|     338|       55|                1|                0|                0|                0|                0|                0|                0|         0|         1|         0|         0|            0|             0|             0|             0|             0|            0|             0|             0|             1|             0|             0|             0|             0|             0|             0|             0|             0|             0|\n",
            "|WuTFI5qftCE|            false|           false|                 false| 11.35060651547512|13.737790068520269| 6.311734809152915| 8.36730010184162|       8|     170|       31|                0|                0|                0|                0|                0|                0|                1|         0|         1|         0|         0|            0|             0|             0|             0|             0|            0|             1|             0|             0|             0|             0|             0|             0|             0|             0|             0|             0|             0|\n",
            "|ee6OFs8TdEg|            false|           false|                 false| 8.998631198287637|11.861439196628254| 4.290459441148391|  6.1779441140506|      24|    1384|       58|                1|                0|                0|                0|                0|                0|                0|         0|         1|         0|         0|            0|             0|             0|             1|             0|            0|             0|             0|             0|             0|             0|             0|             0|             0|             0|             0|             0|             0|\n",
            "|teXaL6GdQRk|            false|           false|                 false| 9.571853592555165|11.858314967191795| 5.313205979041787|6.035481432524756|      26|     752|       64|                1|                0|                0|                0|                0|                0|                0|         0|         1|         0|         0|            0|             0|             0|             0|             0|            0|             0|             0|             1|             0|             0|             0|             0|             0|             0|             0|             0|             0|\n",
            "|nduL7G_gJoY|            false|           false|                 false|  9.13637085177601|12.142360449558572| 7.231287004327616|7.791522819150732|      20|    1026|       50|                0|                0|                0|                0|                0|                0|                1|         0|         1|         0|         0|            0|             0|             0|             0|             0|            0|             0|             0|             0|             1|             0|             0|             0|             0|             0|             0|             0|             0|\n",
            "|QmpWE_SODZA|            false|           false|                 false| 7.423568444259167| 11.41918605086728|  7.55171221535131|6.553933404025811|       8|     341|       82|                1|                0|                0|                0|                0|                0|                0|         0|         1|         0|         0|            0|             0|             0|             0|             0|            0|             0|             0|             0|             1|             0|             0|             0|             0|             0|             0|             0|             0|\n",
            "|GBVxEpQr8R8|            false|           false|                 false|12.209063169452682| 14.66606397042926|  8.70267641154777|8.932740634865914|      12|    1106|       34|                0|                0|                0|                0|                0|                0|                1|         0|         1|         0|         0|            0|             0|             0|             0|             0|            0|             0|             0|             0|             1|             0|             0|             0|             0|             0|             0|             0|             0|\n",
            "|0RFhWyM6qbA|            false|           false|                 false| 8.690474003558043|13.361753436588911| 6.583409222158765|7.302496423727326|       3|      42|       68|                0|                0|                0|                0|                0|                0|                1|         0|         1|         0|         0|            0|             0|             0|             0|             0|            0|             0|             1|             0|             0|             0|             0|             0|             0|             0|             0|             0|             0|\n",
            "|LhjhGOBIoHM|             true|            true|                 false|               0.0|12.591559510922673|               0.0|              0.0|      10|     452|       59|                0|                0|                0|                0|                0|                0|                1|         0|         1|         0|         0|            0|             0|             0|             0|             0|            0|             0|             0|             0|             1|             0|             0|             0|             0|             0|             0|             0|             0|\n",
            "|lnFaRuWOLN0|            false|           false|                 false| 11.59575812326344| 14.22427089749555| 7.354362330421477| 7.97728198675515|      10|     506|       28|                0|                0|                0|                0|                0|                0|                1|         0|         1|         0|         0|            0|             0|             0|             0|             0|            0|             0|             0|             1|             0|             0|             0|             0|             0|             0|             0|             0|             0|\n",
            "|LGbUBietbJc|            false|           false|                 false|10.060961276360318|12.722249923614566| 7.618251097876695|8.008032846969307|       1|     423|       68|                0|                0|                0|                0|                0|                0|                1|         0|         1|         0|         0|            0|             0|             0|             0|             0|            0|             0|             0|             0|             1|             0|             0|             0|             0|             0|             0|             0|             0|\n",
            "|JfanclGyrZY|            false|           false|                 false| 8.549660381553739|10.882734304052615| 3.784189633918261|5.459585514144159|      15|    3730|       34|                1|                0|                0|                0|                0|                0|                0|         0|         1|         0|         0|            0|             0|             0|             0|             0|            0|             0|             0|             0|             0|             0|             0|             1|             0|             0|             0|             0|             0|\n",
            "|PpECwr15oQQ|            false|           false|                 false| 8.331827004436057|10.920781320026649| 4.584967478670572|5.983936280687191|      24|    1467|       18|                1|                0|                0|                0|                0|                0|                0|         0|         1|         0|         0|            0|             0|             0|             0|             0|            0|             0|             0|             1|             0|             0|             0|             0|             0|             0|             0|             0|             0|\n",
            "|ZTTpRHC5ZH4|            false|           false|                 false| 9.007489523929735| 12.05878419995685| 4.564348191467836|5.472270673671475|      15|    1503|       37|                0|                0|                0|                0|                0|                0|                1|         0|         1|         0|         0|            0|             0|             0|             0|             0|            0|             0|             0|             1|             0|             0|             0|             0|             0|             0|             0|             0|             0|\n",
            "|RpEJCznFreQ|            false|           false|                 false|10.070949246423059|12.829371231433653| 6.021023349349527| 6.70196036600254|      14|    1779|       37|                0|                0|                0|                0|                0|                0|                1|         0|         1|         0|         0|            0|             0|             0|             0|             0|            0|             0|             0|             0|             0|             0|             1|             0|             0|             0|             0|             0|             0|\n",
            "|tsMw-VMUtNU|            false|           false|                 false|  4.04305126783455| 11.28492011423911|1.6094379124341003|3.258096538021482|       6|     191|       55|                0|                0|                0|                0|                0|                1|                0|         0|         1|         0|         0|            0|             0|             0|             0|             0|            0|             0|             0|             0|             1|             0|             0|             0|             0|             0|             0|             0|             0|\n",
            "|hdOzPPa_bFY|            false|           false|                 false| 9.906981441790384| 12.45039043207579|5.5053315359323625| 6.85751406254539|       1|    1329|       51|                1|                0|                0|                0|                0|                0|                0|         0|         1|         0|         0|            0|             0|             0|             0|             0|            0|             1|             0|             0|             0|             0|             0|             0|             0|             0|             0|             0|             0|\n",
            "|7779JdxVAg0|            false|           false|                 false|10.231855610259325| 13.38994324769186| 7.929846429742503| 8.28828304520769|      19|     522|       80|                0|                0|                0|                0|                0|                0|                1|         0|         1|         0|         0|            0|             0|             0|             0|             0|            0|             0|             0|             0|             1|             0|             0|             0|             0|             0|             0|             0|             0|\n",
            "+-----------+-----------------+----------------+----------------------+------------------+------------------+------------------+-----------------+--------+--------+---------+-----------------+-----------------+-----------------+-----------------+-----------------+-----------------+-----------------+----------+----------+----------+----------+-------------+--------------+--------------+--------------+--------------+-------------+--------------+--------------+--------------+--------------+--------------+--------------+--------------+--------------+--------------+--------------+--------------+--------------+\n",
            "only showing top 20 rows\n",
            "\n"
          ],
          "name": "stdout"
        }
      ]
    },
    {
      "cell_type": "code",
      "metadata": {
        "id": "J0YGblWdPv2J",
        "colab": {
          "base_uri": "https://localhost:8080/"
        },
        "outputId": "cb2e3373-305e-4491-c553-6560089d71a9"
      },
      "source": [
        "## Grader cell, worth 5 points\n",
        "to_grade = train_sdf.toPandas()\n",
        "grader.grade('check_spark_load', (to_grade.size, to_grade[:50]))"
      ],
      "execution_count": null,
      "outputs": [
        {
          "output_type": "stream",
          "text": [
            "Correct! You earned 5/5 points. You are a star!\n",
            "\n",
            "Your submission has been successfully recorded in the gradebook.\n"
          ],
          "name": "stdout"
        }
      ]
    },
    {
      "cell_type": "markdown",
      "metadata": {
        "id": "NFWmORJ8XhX_"
      },
      "source": [
        "Print out the dataframe schema and verify the datatypes"
      ]
    },
    {
      "cell_type": "code",
      "metadata": {
        "id": "22b4aWjueZuO",
        "colab": {
          "base_uri": "https://localhost:8080/"
        },
        "outputId": "9804d4b5-b2b7-4d97-c56d-31a7a05e20fd"
      },
      "source": [
        "#Printing the schema of the DF\n",
        "train_sdf.printSchema()"
      ],
      "execution_count": null,
      "outputs": [
        {
          "output_type": "stream",
          "text": [
            "root\n",
            " |-- video_id: string (nullable = true)\n",
            " |-- comments_disabled: boolean (nullable = true)\n",
            " |-- ratings_disabled: boolean (nullable = true)\n",
            " |-- video_error_or_removed: boolean (nullable = true)\n",
            " |-- likes_log: double (nullable = true)\n",
            " |-- label: double (nullable = true)\n",
            " |-- dislikes_log: double (nullable = true)\n",
            " |-- comment_log: double (nullable = true)\n",
            " |-- num_tags: integer (nullable = true)\n",
            " |-- desc_len: integer (nullable = true)\n",
            " |-- len_title: integer (nullable = true)\n",
            " |-- publish_weekday_1: integer (nullable = true)\n",
            " |-- publish_weekday_2: integer (nullable = true)\n",
            " |-- publish_weekday_3: integer (nullable = true)\n",
            " |-- publish_weekday_4: integer (nullable = true)\n",
            " |-- publish_weekday_5: integer (nullable = true)\n",
            " |-- publish_weekday_6: integer (nullable = true)\n",
            " |-- publish_weekday_7: integer (nullable = true)\n",
            " |-- country_CA: integer (nullable = true)\n",
            " |-- country_FR: integer (nullable = true)\n",
            " |-- country_IN: integer (nullable = true)\n",
            " |-- country_US: integer (nullable = true)\n",
            " |-- category_id_1: integer (nullable = true)\n",
            " |-- category_id_10: integer (nullable = true)\n",
            " |-- category_id_15: integer (nullable = true)\n",
            " |-- category_id_17: integer (nullable = true)\n",
            " |-- category_id_19: integer (nullable = true)\n",
            " |-- category_id_2: integer (nullable = true)\n",
            " |-- category_id_20: integer (nullable = true)\n",
            " |-- category_id_22: integer (nullable = true)\n",
            " |-- category_id_23: integer (nullable = true)\n",
            " |-- category_id_24: integer (nullable = true)\n",
            " |-- category_id_25: integer (nullable = true)\n",
            " |-- category_id_26: integer (nullable = true)\n",
            " |-- category_id_27: integer (nullable = true)\n",
            " |-- category_id_28: integer (nullable = true)\n",
            " |-- category_id_29: integer (nullable = true)\n",
            " |-- category_id_30: integer (nullable = true)\n",
            " |-- category_id_43: integer (nullable = true)\n",
            " |-- category_id_44: integer (nullable = true)\n",
            "\n"
          ],
          "name": "stdout"
        }
      ]
    },
    {
      "cell_type": "markdown",
      "metadata": {
        "id": "fJ34pkSeXn3G"
      },
      "source": [
        "Great job, we have the processed data now. For Spark ML, we need to create a feature column which has all features concatenated and a single column for labels, which we already have!\n",
        "\n",
        "We will use VectorAssembler() to create a feature vector from all categorical and numerical features and we call the final vector as “features”.\n",
        "\n",
        "First, list all columns in the data and store it in a list named all_columns\n"
      ]
    },
    {
      "cell_type": "code",
      "metadata": {
        "id": "HwWWc_0Ttyg4"
      },
      "source": [
        "from pyspark.ml.feature import StringIndexer, VectorAssembler"
      ],
      "execution_count": null,
      "outputs": []
    },
    {
      "cell_type": "code",
      "metadata": {
        "id": "XIcLnx7bt7Q8"
      },
      "source": [
        "# Your code goes here\n",
        "all_columns = train_sdf.schema.names"
      ],
      "execution_count": null,
      "outputs": []
    },
    {
      "cell_type": "markdown",
      "metadata": {
        "id": "BqiuAgWxh2yv"
      },
      "source": [
        "Create a list of columns which you don't wan't to include in your features i.e. the labels and probably other columns which don't help the machine learning model. Name this list drop_columns."
      ]
    },
    {
      "cell_type": "code",
      "metadata": {
        "id": "B-_2Tsy5uzIo"
      },
      "source": [
        "# Your code goes here\n",
        "drop_columns = ['label', 'video_id']"
      ],
      "execution_count": null,
      "outputs": []
    },
    {
      "cell_type": "code",
      "metadata": {
        "id": "GWgiDQuciHKt"
      },
      "source": [
        "columns_to_use = [i for i in all_columns if i not in drop_columns]"
      ],
      "execution_count": null,
      "outputs": []
    },
    {
      "cell_type": "markdown",
      "metadata": {
        "id": "V4kOg6TWiOcm"
      },
      "source": [
        "Create a VectorAssembler object with columns you want to use. Name your output column as 'features' (because they are the features you would use later), and name your vector assembler object 'assembler'"
      ]
    },
    {
      "cell_type": "code",
      "metadata": {
        "id": "cPl796SvpvoU"
      },
      "source": [
        "# Convert from dataframe features to a \"features\" column that is a vector\n",
        "vecAssembler = VectorAssembler(inputCols=columns_to_use, outputCol=\"features\")"
      ],
      "execution_count": null,
      "outputs": []
    },
    {
      "cell_type": "code",
      "metadata": {
        "id": "5LlUa9NRQMOT",
        "colab": {
          "base_uri": "https://localhost:8080/"
        },
        "outputId": "54531efc-f3bf-47ee-d7b0-61aaeeafb4e0"
      },
      "source": [
        "# Grader cell, worth 5 points\n",
        "grader.grade('check_assembler', (str(vecAssembler.params), columns_to_use))"
      ],
      "execution_count": null,
      "outputs": [
        {
          "output_type": "stream",
          "text": [
            "Correct! You earned 5/5 points. You are a star!\n",
            "\n",
            "Your submission has been successfully recorded in the gradebook.\n"
          ],
          "name": "stdout"
        }
      ]
    },
    {
      "cell_type": "markdown",
      "metadata": {
        "id": "X7_HC7cTif1k"
      },
      "source": [
        "Now we will create a pipeline with many stages. For this data, we just need a single stage with the assembler, but you could have other stages before that where you perform operations on the data like converting categorical strings in the features to numeric values, or do feature scaling operations. \n",
        "\n",
        "In this step, we will create a pipeline with a single stage - the assembler. Fit the pipeline to your data and create the transformed dataframe and name it 'modified_data_sdf'."
      ]
    },
    {
      "cell_type": "code",
      "metadata": {
        "id": "iuO1Mu9IvTEz",
        "colab": {
          "base_uri": "https://localhost:8080/"
        },
        "outputId": "b482ddca-fe6b-40ca-8839-32bc83cc02a5"
      },
      "source": [
        "from pyspark.ml import Pipeline\n",
        "\n",
        "#Ceating the assembler step\n",
        "assembler = VectorAssembler(inputCols=columns_to_use, outputCol=\"features\")\n",
        "\n",
        "#Creating the pipeline\n",
        "pipe = Pipeline(stages=[assembler])\n",
        "\n",
        "#Fitting the pipeline to our data\n",
        "model = pipe.fit(train_sdf)\n",
        "\n",
        "#Transforming the data\n",
        "modified_data_sdf = model.transform(train_sdf)\n",
        "\n",
        "#Viewing\n",
        "modified_data_sdf.select('features').show()"
      ],
      "execution_count": null,
      "outputs": [
        {
          "output_type": "stream",
          "text": [
            "+--------------------+\n",
            "|            features|\n",
            "+--------------------+\n",
            "|(38,[3,4,5,6,7,8,...|\n",
            "|(38,[3,4,5,6,7,8,...|\n",
            "|(38,[3,4,5,6,7,8,...|\n",
            "|(38,[3,4,5,6,7,8,...|\n",
            "|(38,[3,4,5,6,7,8,...|\n",
            "|(38,[3,4,5,6,7,8,...|\n",
            "|(38,[3,4,5,6,7,8,...|\n",
            "|(38,[3,4,5,6,7,8,...|\n",
            "|(38,[3,4,5,6,7,8,...|\n",
            "|(38,[3,4,5,6,7,8,...|\n",
            "|(38,[0,1,6,7,8,15...|\n",
            "|(38,[3,4,5,6,7,8,...|\n",
            "|(38,[3,4,5,6,7,8,...|\n",
            "|(38,[3,4,5,6,7,8,...|\n",
            "|(38,[3,4,5,6,7,8,...|\n",
            "|(38,[3,4,5,6,7,8,...|\n",
            "|(38,[3,4,5,6,7,8,...|\n",
            "|(38,[3,4,5,6,7,8,...|\n",
            "|(38,[3,4,5,6,7,8,...|\n",
            "|(38,[3,4,5,6,7,8,...|\n",
            "+--------------------+\n",
            "only showing top 20 rows\n",
            "\n"
          ],
          "name": "stdout"
        }
      ]
    },
    {
      "cell_type": "code",
      "metadata": {
        "id": "KwlFEWKwXbRd",
        "colab": {
          "base_uri": "https://localhost:8080/"
        },
        "outputId": "b5751f38-d054-47cc-ea23-492e2329dd1e"
      },
      "source": [
        "#Grader cell, worth 8 points\n",
        "to_grade_df = pd.DataFrame(modified_data_sdf.take(5), columns=modified_data_sdf.columns)\n",
        "grader.grade('check_pipeline', (to_grade_df.columns.values, to_grade_df['features'][0].size))"
      ],
      "execution_count": null,
      "outputs": [
        {
          "output_type": "stream",
          "text": [
            "Correct! You earned 8/8 points. You are a star!\n",
            "\n",
            "Your submission has been successfully recorded in the gradebook.\n"
          ],
          "name": "stdout"
        }
      ]
    },
    {
      "cell_type": "markdown",
      "metadata": {
        "id": "0TKEQEDkxFGf"
      },
      "source": [
        "Now that we have the data in the format we need, we will create out train and test sets. Split into an 80-20 ratio between the train and test sets. Name these 'train_sdf' and 'test_sdf'"
      ]
    },
    {
      "cell_type": "code",
      "metadata": {
        "id": "Jn4_0RHHxEYm"
      },
      "source": [
        "# Your code goes here\n",
        "train_sdf, test_sdf = modified_data_sdf.randomSplit([0.8, 0.2], seed=42)"
      ],
      "execution_count": null,
      "outputs": []
    },
    {
      "cell_type": "code",
      "metadata": {
        "id": "TkvrG1lMbe9_",
        "colab": {
          "base_uri": "https://localhost:8080/"
        },
        "outputId": "886f3a3e-ff56-4e7b-e4d6-bae1480adeef"
      },
      "source": [
        "#Grader cell, worth 2 points\n",
        "grader.grade('check_split', (train_sdf.count(), test_sdf.count()))"
      ],
      "execution_count": null,
      "outputs": [
        {
          "output_type": "stream",
          "text": [
            "Correct! You earned 2/2 points. You are a star!\n",
            "\n",
            "Your submission has been successfully recorded in the gradebook.\n"
          ],
          "name": "stdout"
        }
      ]
    },
    {
      "cell_type": "markdown",
      "metadata": {
        "id": "L_CKE8i8an4x"
      },
      "source": [
        "### 2.2 Linear regression using Spark ML (15 points)\n",
        "\n",
        "Time to do the cool stuff, let's train a linear regression model to our data and try to predict the views again! This time, we will use \"Big\" data tools. Using Spark ML's linear regression, create a model, fit the training data. We will then see the summary stats for the model - the RMSE error, R2 score and other information you find useful. Look up the documentation online and try to understand how to implement this.\n",
        "\n",
        "Firstly, train a model without any regularization!"
      ]
    },
    {
      "cell_type": "code",
      "metadata": {
        "id": "W9qJdpIU4e8q"
      },
      "source": [
        "from pyspark.ml.regression import LinearRegression\n",
        "\n",
        "#Creating the Linear Regression\n",
        "lr = LinearRegression(featuresCol = 'features', labelCol='label')\n",
        "\n",
        "#Fitting the model\n",
        "lr_model = lr.fit(train_sdf)"
      ],
      "execution_count": null,
      "outputs": []
    },
    {
      "cell_type": "code",
      "metadata": {
        "id": "M_n_gx3I-Icl",
        "colab": {
          "base_uri": "https://localhost:8080/"
        },
        "outputId": "e5171fb9-7e0d-46e0-b5c6-4ae0e7c7bd85"
      },
      "source": [
        "trainingSummary = lr_model.summary\n",
        "\n",
        "print(\"RMSE: %f\" % trainingSummary.rootMeanSquaredError)\n",
        "print(\"r2: %f\" % trainingSummary.r2)"
      ],
      "execution_count": null,
      "outputs": [
        {
          "output_type": "stream",
          "text": [
            "RMSE: 0.667389\n",
            "r2: 0.865265\n"
          ],
          "name": "stdout"
        }
      ]
    },
    {
      "cell_type": "code",
      "metadata": {
        "id": "OZIFha2PZrgA",
        "colab": {
          "base_uri": "https://localhost:8080/"
        },
        "outputId": "9d928c4b-9121-4894-cb53-f70bbbf3f1bb"
      },
      "source": [
        "#Grader cell, worth 4 points\n",
        "\n",
        "grader.grade('check_lr_train', (trainingSummary.rootMeanSquaredError, trainingSummary.r2) )"
      ],
      "execution_count": null,
      "outputs": [
        {
          "output_type": "stream",
          "text": [
            "Correct! You earned 4/4 points. You are a star!\n",
            "\n",
            "Your submission has been successfully recorded in the gradebook.\n"
          ],
          "name": "stdout"
        }
      ]
    },
    {
      "cell_type": "markdown",
      "metadata": {
        "id": "kJT9Ov_irnXl"
      },
      "source": [
        "Now, find out how good the model actually is and see if it overfits the training data. Predict the views for your test data (hint: it is called 'transform' in spark ml) and evaluate the performance using 'RegressionEvaluator' object in the Spark ML Regression library. Your prediction column should be named 'prediction'."
      ]
    },
    {
      "cell_type": "code",
      "metadata": {
        "id": "3sE9kv3ZsU7J",
        "colab": {
          "base_uri": "https://localhost:8080/"
        },
        "outputId": "a81e67d5-48e8-4173-80ed-942fe7a37d42"
      },
      "source": [
        "#Generating the predictions\n",
        "predictions = lr_model.transform(test_sdf)\n",
        "predictions.show(5)"
      ],
      "execution_count": null,
      "outputs": [
        {
          "output_type": "stream",
          "text": [
            "+-----------+-----------------+----------------+----------------------+-----------------+------------------+------------------+------------------+--------+--------+---------+-----------------+-----------------+-----------------+-----------------+-----------------+-----------------+-----------------+----------+----------+----------+----------+-------------+--------------+--------------+--------------+--------------+-------------+--------------+--------------+--------------+--------------+--------------+--------------+--------------+--------------+--------------+--------------+--------------+--------------+--------------------+------------------+\n",
            "|   video_id|comments_disabled|ratings_disabled|video_error_or_removed|        likes_log|             label|      dislikes_log|       comment_log|num_tags|desc_len|len_title|publish_weekday_1|publish_weekday_2|publish_weekday_3|publish_weekday_4|publish_weekday_5|publish_weekday_6|publish_weekday_7|country_CA|country_FR|country_IN|country_US|category_id_1|category_id_10|category_id_15|category_id_17|category_id_19|category_id_2|category_id_20|category_id_22|category_id_23|category_id_24|category_id_25|category_id_26|category_id_27|category_id_28|category_id_29|category_id_30|category_id_43|category_id_44|            features|        prediction|\n",
            "+-----------+-----------------+----------------+----------------------+-----------------+------------------+------------------+------------------+--------+--------+---------+-----------------+-----------------+-----------------+-----------------+-----------------+-----------------+-----------------+----------+----------+----------+----------+-------------+--------------+--------------+--------------+--------------+-------------+--------------+--------------+--------------+--------------+--------------+--------------+--------------+--------------+--------------+--------------+--------------+--------------+--------------------+------------------+\n",
            "|--728h8mnDY|            false|           false|                 false|7.853216388156072|10.584966928228392|3.9512437185814275| 5.598421958998375|       6|    1616|       15|                0|                1|                0|                0|                0|                0|                0|         0|         1|         0|         0|            0|             0|             0|             0|             0|            0|             0|             0|             0|             0|             0|             1|             0|             0|             0|             0|             0|             0|(38,[3,4,5,6,7,8,...|10.539210582303008|\n",
            "|--I0aj8MUdU|            false|           false|                 false|5.948034989180646|11.487905048658087|   4.0943445622221| 2.772588722239781|       6|      93|       68|                0|                0|                0|                0|                0|                0|                1|         0|         1|         0|         0|            0|             0|             0|             0|             0|            0|             0|             0|             0|             1|             0|             0|             0|             0|             0|             0|             0|             0|(38,[3,4,5,6,7,8,...|10.799932806391503|\n",
            "|--MtKsH5oBY|            false|           false|                 false|8.165647925297504|13.144209014373521| 5.921578419643816| 6.643789733147672|      11|     594|       69|                0|                0|                0|                1|                0|                0|                0|         0|         1|         0|         0|            0|             0|             0|             1|             0|            0|             0|             0|             0|             0|             0|             0|             0|             0|             0|             0|             0|             0|(38,[3,4,5,6,7,8,...|12.471734711208233|\n",
            "|--mmyQlx91I|            false|           false|                 false|7.515344571180436|12.409613309598832|3.4011973816621555|  4.61512051684126|       5|     114|       99|                1|                0|                0|                0|                0|                0|                0|         0|         1|         0|         0|            0|             0|             0|             0|             0|            0|             0|             0|             1|             0|             0|             0|             0|             0|             0|             0|             0|             0|(38,[3,4,5,6,7,8,...|10.635332604976277|\n",
            "|-0BFYLEfalg|            false|           false|                 false|7.628517626575055|11.049603463848204| 4.564348191467836|5.4116460518550396|      23|     806|       31|                0|                0|                1|                0|                0|                0|                0|         0|         1|         0|         0|            0|             0|             0|             0|             0|            0|             0|             0|             0|             1|             0|             0|             0|             0|             0|             0|             0|             0|(38,[3,4,5,6,7,8,...|11.307471496536406|\n",
            "+-----------+-----------------+----------------+----------------------+-----------------+------------------+------------------+------------------+--------+--------+---------+-----------------+-----------------+-----------------+-----------------+-----------------+-----------------+-----------------+----------+----------+----------+----------+-------------+--------------+--------------+--------------+--------------+-------------+--------------+--------------+--------------+--------------+--------------+--------------+--------------+--------------+--------------+--------------+--------------+--------------+--------------------+------------------+\n",
            "only showing top 5 rows\n",
            "\n"
          ],
          "name": "stdout"
        }
      ]
    },
    {
      "cell_type": "code",
      "metadata": {
        "id": "TlqLeWSDsd__"
      },
      "source": [
        "from pyspark.ml.evaluation import RegressionEvaluator\n",
        "\n",
        "#Creating the evaluator and producing the test_rmse\n",
        "lr_evaluator = RegressionEvaluator(predictionCol = \"prediction\", labelCol = \"label\", metricName=\"rmse\")\n",
        "test_rmse_orig = lr_evaluator.evaluate(predictions)"
      ],
      "execution_count": null,
      "outputs": []
    },
    {
      "cell_type": "code",
      "metadata": {
        "id": "DuBHq2n8dCxs",
        "colab": {
          "base_uri": "https://localhost:8080/"
        },
        "outputId": "21a1de5f-f6d2-4af1-d887-61e6de0ed5bd"
      },
      "source": [
        "#Grader cell, worth 4 points\n",
        "predictions_to_grade = predictions.toPandas()\n",
        "answer = [test_rmse_orig, predictions_to_grade['prediction'][0:50], predictions_to_grade['label'][0:50]]\n",
        "grader.grade('check_lr_test', answer)"
      ],
      "execution_count": null,
      "outputs": [
        {
          "output_type": "stream",
          "text": [
            "Correct! You earned 4/4 points. You are a star!\n",
            "\n",
            "Your submission has been successfully recorded in the gradebook.\n"
          ],
          "name": "stdout"
        }
      ]
    },
    {
      "cell_type": "markdown",
      "metadata": {
        "id": "pgEkOUYUsi5D"
      },
      "source": [
        "Now, we will add regularization to avoid overfitting. Play around with different regularization parameters - try out LASSO (L1), Ridge (L2) and elastic net (combination of L1 and L2) and different regularization hyperparameters when initializing 3 different regularized linear regression models. Compare these with each other and the non regularized regression done above."
      ]
    },
    {
      "cell_type": "code",
      "metadata": {
        "id": "hhx5njucYKk2"
      },
      "source": [
        "#Creating l1 model\n",
        "lr_1 = LinearRegression(featuresCol = 'features', labelCol='label', regParam=0.3, elasticNetParam = 1)\n",
        "lr_1_model = lr_1.fit(train_sdf)\n",
        "\n",
        "#Creating l2 model\n",
        "lr_2 = LinearRegression(featuresCol = 'features', labelCol='label', regParam=0.3, elasticNetParam = 0)\n",
        "lr_2_model = lr_2.fit(train_sdf)\n",
        "\n",
        "#Creating the elastic net model\n",
        "lr_elastic_net = LinearRegression(featuresCol = 'features', labelCol='label', regParam=0.3, elasticNetParam = 0.5)\n",
        "lr_elastic_net_model = lr_elastic_net.fit(train_sdf)\n",
        "\n",
        "#Generating predictions\n",
        "l1_predictions = lr_1_model.transform(test_sdf)\n",
        "l2_predictions = lr_2_model.transform(test_sdf)\n",
        "elastic_net_predictions = lr_elastic_net_model.transform(test_sdf)\n",
        "\n",
        "#Computing root mean squared error on test set for each of model\n",
        "test_rmse_l1 = lr_1_model.summary.rootMeanSquaredError\n",
        "test_rmse_l2 = lr_2_model.summary.rootMeanSquaredError\n",
        "test_rmse_elastic = lr_elastic_net_model.summary.rootMeanSquaredError\n"
      ],
      "execution_count": null,
      "outputs": []
    },
    {
      "cell_type": "code",
      "metadata": {
        "id": "q0-fqj8MgY2S",
        "colab": {
          "base_uri": "https://localhost:8080/"
        },
        "outputId": "c1e6aa84-e0a6-4698-cee0-ca19eec126c8"
      },
      "source": [
        "# Grader cell, worth 7 points\n",
        "answer = [test_rmse_l1, test_rmse_l2, test_rmse_elastic]\n",
        "grader.grade('check_lr_all', answer)"
      ],
      "execution_count": null,
      "outputs": [
        {
          "output_type": "stream",
          "text": [
            "Correct! You earned 7/7 points. You are a star!\n",
            "\n",
            "Your submission has been successfully recorded in the gradebook.\n"
          ],
          "name": "stdout"
        }
      ]
    },
    {
      "cell_type": "markdown",
      "metadata": {
        "id": "O6ntJ6xFbbmn"
      },
      "source": [
        "### 2.3 Random Forest Regression (10 points)\n",
        "\n",
        "As a data scientist, if you are looking to win competitions, you definitely must know about random forests, boosted trees etc. These ensemble methods generalize well and work surprisingly well for a lot of classification problems and sometimes for regression problems. So let's give it a go with our problem. Just like the linear regression model, create a random forest regressor model, fit the training data and evaluate using RegressionEvaluator. Compare the performance on the test set with the Linear Regression model"
      ]
    },
    {
      "cell_type": "code",
      "metadata": {
        "id": "8pjjP9GWuoml"
      },
      "source": [
        "from pyspark.ml.regression import RandomForestRegressor\n",
        "\n",
        "#Creating the random forest\n",
        "rf = RandomForestRegressor(featuresCol ='features', labelCol = 'label', maxDepth=10)\n",
        "rf_model = rf.fit(train_sdf)"
      ],
      "execution_count": null,
      "outputs": []
    },
    {
      "cell_type": "code",
      "metadata": {
        "id": "ruaaYA2jBlRK"
      },
      "source": [
        "#Generating the predictions from the test set\n",
        "predictions = rf_model.transform(test_sdf)"
      ],
      "execution_count": null,
      "outputs": []
    },
    {
      "cell_type": "code",
      "metadata": {
        "id": "PvuikPxzICON"
      },
      "source": [
        "#Generating the predictions from the train set\n",
        "predictions_train = rf_model.transform(train_sdf)"
      ],
      "execution_count": null,
      "outputs": []
    },
    {
      "cell_type": "code",
      "metadata": {
        "id": "QyyZfbd6Brqs"
      },
      "source": [
        "from pyspark.ml.evaluation import RegressionEvaluator\n",
        "\n",
        "#Creating the evaluator\n",
        "rf_evaluator = RegressionEvaluator(predictionCol = \"prediction\", labelCol = \"label\", metricName=\"rmse\")\n",
        "\n",
        "#Calculating the train mse\n",
        "train_rmse_rf = rf_evaluator.evaluate(predictions_train)\n",
        "#Calculating the test mse\n",
        "rmse_rf = rf_evaluator.evaluate(predictions)"
      ],
      "execution_count": null,
      "outputs": []
    },
    {
      "cell_type": "code",
      "metadata": {
        "id": "e4frwBEKIvbq",
        "colab": {
          "base_uri": "https://localhost:8080/"
        },
        "outputId": "5cf3deb4-3aa1-4987-f4a4-28b286e39862"
      },
      "source": [
        "#Printing for reference\n",
        "train_rmse_rf, rmse_rf"
      ],
      "execution_count": null,
      "outputs": [
        {
          "output_type": "execute_result",
          "data": {
            "text/plain": [
              "(0.587505569675666, 0.6047082573249609)"
            ]
          },
          "metadata": {
            "tags": []
          },
          "execution_count": 92
        }
      ]
    },
    {
      "cell_type": "code",
      "metadata": {
        "id": "fR09u5GFjvtb",
        "colab": {
          "base_uri": "https://localhost:8080/"
        },
        "outputId": "67676cf4-4748-44cc-d52b-94f258163df8"
      },
      "source": [
        "#Grader cell, worth 10 points\n",
        "predictions_to_grade = predictions.toPandas()\n",
        "answer = [train_rmse_rf, predictions_to_grade['prediction'][0:50], predictions_to_grade['label'][0:50], rmse_rf]\n",
        "grader.grade('check_rf_spark', answer)"
      ],
      "execution_count": null,
      "outputs": [
        {
          "output_type": "stream",
          "text": [
            "Correct! You earned 10/10 points. You are a star!\n",
            "\n",
            "Your submission has been successfully recorded in the gradebook.\n"
          ],
          "name": "stdout"
        }
      ]
    },
    {
      "cell_type": "markdown",
      "metadata": {
        "id": "SH9cxYzla-lf"
      },
      "source": [
        "### 2.4 Dimensionality Reduction using PCA (10 points)\n",
        "\n",
        "We will again use the powerful PCA to reduce the dimensions and project the data onto a lower dimensional space and do linear regression on the new projected data. Choose an appropriate value for the number of dimensions - you already found out this number in section 1!\n",
        "\n",
        "\n",
        "Steps for this section\n",
        "1.   Initialize a PCA model\n",
        "2.   Fit the model using the training data\n",
        "3.   Get the PCA feature from the trained model\n",
        "4.   Train a linear regression model using the PCA features\n",
        "5.   Evaluate the performance on the test set \n",
        "\n",
        "Note that this section deliberately gives less starter code to allow you to go through the documentation and implement, as you will be doing as future data scientists! \n",
        "\n",
        "\n",
        "\n"
      ]
    },
    {
      "cell_type": "code",
      "metadata": {
        "id": "Zq1EmMAigCDr"
      },
      "source": [
        "from pyspark.ml.feature import PCA"
      ],
      "execution_count": null,
      "outputs": []
    },
    {
      "cell_type": "code",
      "metadata": {
        "id": "nMPCOornM6pr"
      },
      "source": [
        "#Creating the PCA model\n",
        "pca_model = PCA().setInputCol(\"features\").setOutputCol(\"pcaFeatures\").setK(5).fit(train_sdf)"
      ],
      "execution_count": null,
      "outputs": []
    },
    {
      "cell_type": "code",
      "metadata": {
        "id": "mhSPCNuVOog6"
      },
      "source": [
        "#Retrieving the predictions from training data\n",
        "pca_train_features = pca_model.transform(train_sdf)"
      ],
      "execution_count": null,
      "outputs": []
    },
    {
      "cell_type": "code",
      "metadata": {
        "id": "YoE1q6Q7PdIt"
      },
      "source": [
        "#Creating the linear regression model\n",
        "lr = LinearRegression(featuresCol = 'pcaFeatures', labelCol='label')\n",
        "lr_model = lr.fit(pca_train_features)"
      ],
      "execution_count": null,
      "outputs": []
    },
    {
      "cell_type": "code",
      "metadata": {
        "id": "r-2_ErHLP25f"
      },
      "source": [
        "#Generating predictions on training set\n",
        "predictions_pca_train = lr_model.transform(pca_train_features)\n",
        "\n",
        "#Creating the evaluator\n",
        "lr_evaluator = RegressionEvaluator(predictionCol = \"prediction\", labelCol = \"label\", metricName=\"rmse\")\n",
        "\n",
        "#Evaluating\n",
        "training_rmse_pca = lr_evaluator.evaluate(predictions_pca_train)"
      ],
      "execution_count": null,
      "outputs": []
    },
    {
      "cell_type": "code",
      "metadata": {
        "id": "vHL_6_qXUpRK"
      },
      "source": [
        "#Retrieving the predictions from testing data\n",
        "pca_test_features = pca_model.transform(test_sdf)"
      ],
      "execution_count": null,
      "outputs": []
    },
    {
      "cell_type": "code",
      "metadata": {
        "id": "VMtTOscEUZWA"
      },
      "source": [
        "#Generating predictions on test set\n",
        "predictions = lr_model.transform(pca_test_features)\n",
        "\n",
        "#Evaluating\n",
        "test_rmse_pca = lr_evaluator.evaluate(predictions)"
      ],
      "execution_count": null,
      "outputs": []
    },
    {
      "cell_type": "code",
      "metadata": {
        "id": "nNdWfggtmEmx",
        "colab": {
          "base_uri": "https://localhost:8080/"
        },
        "outputId": "7e57bba6-49e8-457a-ab22-98b532ab1494"
      },
      "source": [
        "# Your code goes here\n",
        "predictions_to_grade = predictions.toPandas()\n",
        "answer = [training_rmse_pca, predictions_to_grade['prediction'][0:50], predictions_to_grade['label'][0:50], test_rmse_pca]\n",
        "grader.grade('check_pca_spark', answer)"
      ],
      "execution_count": null,
      "outputs": [
        {
          "output_type": "stream",
          "text": [
            "Correct! You earned 10/10 points. You are a star!\n",
            "\n",
            "Your submission has been successfully recorded in the gradebook.\n"
          ],
          "name": "stdout"
        }
      ]
    },
    {
      "cell_type": "markdown",
      "metadata": {
        "id": "Srz40mqSZdVP"
      },
      "source": [
        "## Feedback Form\n",
        "Feel free to fill out [this form](https://forms.gle/DbDuEbqqifoFrRxaA) with any feedback for this and prior homeworks."
      ]
    },
    {
      "cell_type": "markdown",
      "metadata": {
        "id": "TyQ6tm6iYg_m"
      },
      "source": [
        "# HW Submission\n",
        "\n",
        "**Double check that you have the correct PennID (all numbers) in the autograder**. \n",
        "\n",
        "Go to the \"File\" tab at the top left, and click \"Download .ipynb\". Zip it (name doesn't matter). \n",
        "\n",
        "You must submit your notebook to GradeScope to receive credit."
      ]
    }
  ]
}